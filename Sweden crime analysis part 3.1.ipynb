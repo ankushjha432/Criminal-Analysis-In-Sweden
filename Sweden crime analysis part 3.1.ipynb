{
 "cells": [
  {
   "cell_type": "markdown",
   "metadata": {},
   "source": [
    "### Is sweden safe for women?"
   ]
  },
  {
   "cell_type": "code",
   "execution_count": 1,
   "metadata": {},
   "outputs": [
    {
     "data": {
      "text/html": [
       "<div>\n",
       "<style scoped>\n",
       "    .dataframe tbody tr th:only-of-type {\n",
       "        vertical-align: middle;\n",
       "    }\n",
       "\n",
       "    .dataframe tbody tr th {\n",
       "        vertical-align: top;\n",
       "    }\n",
       "\n",
       "    .dataframe thead th {\n",
       "        text-align: right;\n",
       "    }\n",
       "</style>\n",
       "<table border=\"1\" class=\"dataframe\">\n",
       "  <thead>\n",
       "    <tr style=\"text-align: right;\">\n",
       "      <th></th>\n",
       "      <th>Year</th>\n",
       "      <th>crimes.total</th>\n",
       "      <th>crimes.penal.code</th>\n",
       "      <th>crimes.person</th>\n",
       "      <th>murder</th>\n",
       "      <th>assault</th>\n",
       "      <th>sexual.offenses</th>\n",
       "      <th>rape</th>\n",
       "      <th>stealing.general</th>\n",
       "      <th>burglary</th>\n",
       "      <th>...</th>\n",
       "      <th>vehicle.theft</th>\n",
       "      <th>out.of.vehicle.theft</th>\n",
       "      <th>shop.theft</th>\n",
       "      <th>robbery</th>\n",
       "      <th>fraud</th>\n",
       "      <th>criminal.damage</th>\n",
       "      <th>other.penal.crimes</th>\n",
       "      <th>narcotics</th>\n",
       "      <th>drunk.driving</th>\n",
       "      <th>population</th>\n",
       "    </tr>\n",
       "  </thead>\n",
       "  <tbody>\n",
       "    <tr>\n",
       "      <th>0</th>\n",
       "      <td>1950</td>\n",
       "      <td>2784</td>\n",
       "      <td>2306</td>\n",
       "      <td>120</td>\n",
       "      <td>1</td>\n",
       "      <td>105</td>\n",
       "      <td>40</td>\n",
       "      <td>5</td>\n",
       "      <td>1578</td>\n",
       "      <td>295</td>\n",
       "      <td>...</td>\n",
       "      <td>NaN</td>\n",
       "      <td>NaN</td>\n",
       "      <td>NaN</td>\n",
       "      <td>3</td>\n",
       "      <td>209</td>\n",
       "      <td>72</td>\n",
       "      <td>477</td>\n",
       "      <td>0.0</td>\n",
       "      <td>49</td>\n",
       "      <td>7014000</td>\n",
       "    </tr>\n",
       "    <tr>\n",
       "      <th>1</th>\n",
       "      <td>1951</td>\n",
       "      <td>3284</td>\n",
       "      <td>2754</td>\n",
       "      <td>125</td>\n",
       "      <td>1</td>\n",
       "      <td>109</td>\n",
       "      <td>45</td>\n",
       "      <td>6</td>\n",
       "      <td>1899</td>\n",
       "      <td>342</td>\n",
       "      <td>...</td>\n",
       "      <td>NaN</td>\n",
       "      <td>NaN</td>\n",
       "      <td>NaN</td>\n",
       "      <td>3</td>\n",
       "      <td>310</td>\n",
       "      <td>73</td>\n",
       "      <td>530</td>\n",
       "      <td>0.0</td>\n",
       "      <td>66</td>\n",
       "      <td>7073000</td>\n",
       "    </tr>\n",
       "    <tr>\n",
       "      <th>2</th>\n",
       "      <td>1952</td>\n",
       "      <td>3160</td>\n",
       "      <td>2608</td>\n",
       "      <td>119</td>\n",
       "      <td>1</td>\n",
       "      <td>104</td>\n",
       "      <td>39</td>\n",
       "      <td>4</td>\n",
       "      <td>1846</td>\n",
       "      <td>372</td>\n",
       "      <td>...</td>\n",
       "      <td>NaN</td>\n",
       "      <td>NaN</td>\n",
       "      <td>NaN</td>\n",
       "      <td>3</td>\n",
       "      <td>217</td>\n",
       "      <td>82</td>\n",
       "      <td>553</td>\n",
       "      <td>0.0</td>\n",
       "      <td>78</td>\n",
       "      <td>7125000</td>\n",
       "    </tr>\n",
       "    <tr>\n",
       "      <th>3</th>\n",
       "      <td>1953</td>\n",
       "      <td>2909</td>\n",
       "      <td>2689</td>\n",
       "      <td>119</td>\n",
       "      <td>1</td>\n",
       "      <td>105</td>\n",
       "      <td>45</td>\n",
       "      <td>5</td>\n",
       "      <td>1929</td>\n",
       "      <td>361</td>\n",
       "      <td>...</td>\n",
       "      <td>NaN</td>\n",
       "      <td>NaN</td>\n",
       "      <td>NaN</td>\n",
       "      <td>4</td>\n",
       "      <td>209</td>\n",
       "      <td>88</td>\n",
       "      <td>220</td>\n",
       "      <td>0.0</td>\n",
       "      <td>91</td>\n",
       "      <td>7171000</td>\n",
       "    </tr>\n",
       "    <tr>\n",
       "      <th>4</th>\n",
       "      <td>1954</td>\n",
       "      <td>3028</td>\n",
       "      <td>2791</td>\n",
       "      <td>126</td>\n",
       "      <td>1</td>\n",
       "      <td>107</td>\n",
       "      <td>41</td>\n",
       "      <td>5</td>\n",
       "      <td>1981</td>\n",
       "      <td>393</td>\n",
       "      <td>...</td>\n",
       "      <td>NaN</td>\n",
       "      <td>NaN</td>\n",
       "      <td>NaN</td>\n",
       "      <td>4</td>\n",
       "      <td>236</td>\n",
       "      <td>101</td>\n",
       "      <td>237</td>\n",
       "      <td>0.0</td>\n",
       "      <td>103</td>\n",
       "      <td>7213000</td>\n",
       "    </tr>\n",
       "    <tr>\n",
       "      <th>...</th>\n",
       "      <td>...</td>\n",
       "      <td>...</td>\n",
       "      <td>...</td>\n",
       "      <td>...</td>\n",
       "      <td>...</td>\n",
       "      <td>...</td>\n",
       "      <td>...</td>\n",
       "      <td>...</td>\n",
       "      <td>...</td>\n",
       "      <td>...</td>\n",
       "      <td>...</td>\n",
       "      <td>...</td>\n",
       "      <td>...</td>\n",
       "      <td>...</td>\n",
       "      <td>...</td>\n",
       "      <td>...</td>\n",
       "      <td>...</td>\n",
       "      <td>...</td>\n",
       "      <td>...</td>\n",
       "      <td>...</td>\n",
       "      <td>...</td>\n",
       "    </tr>\n",
       "    <tr>\n",
       "      <th>61</th>\n",
       "      <td>2011</td>\n",
       "      <td>14988</td>\n",
       "      <td>12267</td>\n",
       "      <td>1005</td>\n",
       "      <td>2</td>\n",
       "      <td>947</td>\n",
       "      <td>181</td>\n",
       "      <td>69</td>\n",
       "      <td>5783</td>\n",
       "      <td>995</td>\n",
       "      <td>...</td>\n",
       "      <td>213.0</td>\n",
       "      <td>706.0</td>\n",
       "      <td>663.0</td>\n",
       "      <td>103</td>\n",
       "      <td>1220</td>\n",
       "      <td>1774</td>\n",
       "      <td>2721</td>\n",
       "      <td>946.0</td>\n",
       "      <td>314</td>\n",
       "      <td>9449000</td>\n",
       "    </tr>\n",
       "    <tr>\n",
       "      <th>62</th>\n",
       "      <td>2012</td>\n",
       "      <td>14734</td>\n",
       "      <td>12148</td>\n",
       "      <td>974</td>\n",
       "      <td>2</td>\n",
       "      <td>914</td>\n",
       "      <td>178</td>\n",
       "      <td>66</td>\n",
       "      <td>5613</td>\n",
       "      <td>922</td>\n",
       "      <td>...</td>\n",
       "      <td>169.0</td>\n",
       "      <td>655.0</td>\n",
       "      <td>635.0</td>\n",
       "      <td>97</td>\n",
       "      <td>1356</td>\n",
       "      <td>1600</td>\n",
       "      <td>2586</td>\n",
       "      <td>994.0</td>\n",
       "      <td>286</td>\n",
       "      <td>9519000</td>\n",
       "    </tr>\n",
       "    <tr>\n",
       "      <th>63</th>\n",
       "      <td>2013</td>\n",
       "      <td>14603</td>\n",
       "      <td>12072</td>\n",
       "      <td>896</td>\n",
       "      <td>3</td>\n",
       "      <td>837</td>\n",
       "      <td>184</td>\n",
       "      <td>63</td>\n",
       "      <td>5552</td>\n",
       "      <td>888</td>\n",
       "      <td>...</td>\n",
       "      <td>159.0</td>\n",
       "      <td>543.0</td>\n",
       "      <td>509.0</td>\n",
       "      <td>87</td>\n",
       "      <td>1545</td>\n",
       "      <td>1470</td>\n",
       "      <td>2532</td>\n",
       "      <td>1002.0</td>\n",
       "      <td>279</td>\n",
       "      <td>9644000</td>\n",
       "    </tr>\n",
       "    <tr>\n",
       "      <th>64</th>\n",
       "      <td>2014</td>\n",
       "      <td>14890</td>\n",
       "      <td>12305</td>\n",
       "      <td>923</td>\n",
       "      <td>3</td>\n",
       "      <td>859</td>\n",
       "      <td>210</td>\n",
       "      <td>69</td>\n",
       "      <td>5572</td>\n",
       "      <td>913</td>\n",
       "      <td>...</td>\n",
       "      <td>147.0</td>\n",
       "      <td>542.0</td>\n",
       "      <td>505.0</td>\n",
       "      <td>86</td>\n",
       "      <td>1610</td>\n",
       "      <td>1559</td>\n",
       "      <td>2585</td>\n",
       "      <td>983.0</td>\n",
       "      <td>271</td>\n",
       "      <td>9747000</td>\n",
       "    </tr>\n",
       "    <tr>\n",
       "      <th>65</th>\n",
       "      <td>2015</td>\n",
       "      <td>15342</td>\n",
       "      <td>12803</td>\n",
       "      <td>932</td>\n",
       "      <td>3</td>\n",
       "      <td>868</td>\n",
       "      <td>184</td>\n",
       "      <td>60</td>\n",
       "      <td>5404</td>\n",
       "      <td>917</td>\n",
       "      <td>...</td>\n",
       "      <td>135.0</td>\n",
       "      <td>552.0</td>\n",
       "      <td>515.0</td>\n",
       "      <td>86</td>\n",
       "      <td>1896</td>\n",
       "      <td>1989</td>\n",
       "      <td>2539</td>\n",
       "      <td>960.0</td>\n",
       "      <td>267</td>\n",
       "      <td>9851000</td>\n",
       "    </tr>\n",
       "  </tbody>\n",
       "</table>\n",
       "<p>66 rows × 21 columns</p>\n",
       "</div>"
      ],
      "text/plain": [
       "    Year  crimes.total  crimes.penal.code  crimes.person  murder  assault  \\\n",
       "0   1950          2784               2306            120       1      105   \n",
       "1   1951          3284               2754            125       1      109   \n",
       "2   1952          3160               2608            119       1      104   \n",
       "3   1953          2909               2689            119       1      105   \n",
       "4   1954          3028               2791            126       1      107   \n",
       "..   ...           ...                ...            ...     ...      ...   \n",
       "61  2011         14988              12267           1005       2      947   \n",
       "62  2012         14734              12148            974       2      914   \n",
       "63  2013         14603              12072            896       3      837   \n",
       "64  2014         14890              12305            923       3      859   \n",
       "65  2015         15342              12803            932       3      868   \n",
       "\n",
       "    sexual.offenses  rape  stealing.general  burglary  ...  vehicle.theft  \\\n",
       "0                40     5              1578       295  ...            NaN   \n",
       "1                45     6              1899       342  ...            NaN   \n",
       "2                39     4              1846       372  ...            NaN   \n",
       "3                45     5              1929       361  ...            NaN   \n",
       "4                41     5              1981       393  ...            NaN   \n",
       "..              ...   ...               ...       ...  ...            ...   \n",
       "61              181    69              5783       995  ...          213.0   \n",
       "62              178    66              5613       922  ...          169.0   \n",
       "63              184    63              5552       888  ...          159.0   \n",
       "64              210    69              5572       913  ...          147.0   \n",
       "65              184    60              5404       917  ...          135.0   \n",
       "\n",
       "    out.of.vehicle.theft  shop.theft  robbery  fraud  criminal.damage  \\\n",
       "0                    NaN         NaN        3    209               72   \n",
       "1                    NaN         NaN        3    310               73   \n",
       "2                    NaN         NaN        3    217               82   \n",
       "3                    NaN         NaN        4    209               88   \n",
       "4                    NaN         NaN        4    236              101   \n",
       "..                   ...         ...      ...    ...              ...   \n",
       "61                 706.0       663.0      103   1220             1774   \n",
       "62                 655.0       635.0       97   1356             1600   \n",
       "63                 543.0       509.0       87   1545             1470   \n",
       "64                 542.0       505.0       86   1610             1559   \n",
       "65                 552.0       515.0       86   1896             1989   \n",
       "\n",
       "    other.penal.crimes  narcotics  drunk.driving  population  \n",
       "0                  477        0.0             49     7014000  \n",
       "1                  530        0.0             66     7073000  \n",
       "2                  553        0.0             78     7125000  \n",
       "3                  220        0.0             91     7171000  \n",
       "4                  237        0.0            103     7213000  \n",
       "..                 ...        ...            ...         ...  \n",
       "61                2721      946.0            314     9449000  \n",
       "62                2586      994.0            286     9519000  \n",
       "63                2532     1002.0            279     9644000  \n",
       "64                2585      983.0            271     9747000  \n",
       "65                2539      960.0            267     9851000  \n",
       "\n",
       "[66 rows x 21 columns]"
      ]
     },
     "execution_count": 1,
     "metadata": {},
     "output_type": "execute_result"
    }
   ],
   "source": [
    "import numpy as np\n",
    "import pandas as pd\n",
    "import matplotlib.pyplot as plt\n",
    "df = pd.read_csv('Desktop/ML/datasets_851_1557_reported.csv')\n",
    "df"
   ]
  },
  {
   "cell_type": "code",
   "execution_count": 2,
   "metadata": {},
   "outputs": [
    {
     "name": "stdout",
     "output_type": "stream",
     "text": [
      "house.theft             15\n",
      "vehicle.theft            7\n",
      "out.of.vehicle.theft    15\n",
      "shop.theft              15\n",
      "narcotics                4\n",
      "dtype: int64\n"
     ]
    }
   ],
   "source": [
    "missing_val_count_by_column = (df.isnull().sum())\n",
    "print(missing_val_count_by_column[missing_val_count_by_column>0])"
   ]
  },
  {
   "cell_type": "code",
   "execution_count": 3,
   "metadata": {},
   "outputs": [
    {
     "data": {
      "text/html": [
       "<div>\n",
       "<style scoped>\n",
       "    .dataframe tbody tr th:only-of-type {\n",
       "        vertical-align: middle;\n",
       "    }\n",
       "\n",
       "    .dataframe tbody tr th {\n",
       "        vertical-align: top;\n",
       "    }\n",
       "\n",
       "    .dataframe thead th {\n",
       "        text-align: right;\n",
       "    }\n",
       "</style>\n",
       "<table border=\"1\" class=\"dataframe\">\n",
       "  <thead>\n",
       "    <tr style=\"text-align: right;\">\n",
       "      <th></th>\n",
       "      <th>Year</th>\n",
       "      <th>crimes.total</th>\n",
       "      <th>crimes.penal.code</th>\n",
       "      <th>crimes.person</th>\n",
       "      <th>murder</th>\n",
       "      <th>assault</th>\n",
       "      <th>sexual.offenses</th>\n",
       "      <th>rape</th>\n",
       "      <th>stealing.general</th>\n",
       "      <th>burglary</th>\n",
       "      <th>...</th>\n",
       "      <th>vehicle.theft</th>\n",
       "      <th>out.of.vehicle.theft</th>\n",
       "      <th>shop.theft</th>\n",
       "      <th>robbery</th>\n",
       "      <th>fraud</th>\n",
       "      <th>criminal.damage</th>\n",
       "      <th>other.penal.crimes</th>\n",
       "      <th>narcotics</th>\n",
       "      <th>drunk.driving</th>\n",
       "      <th>population</th>\n",
       "    </tr>\n",
       "  </thead>\n",
       "  <tbody>\n",
       "    <tr>\n",
       "      <th>15</th>\n",
       "      <td>1965</td>\n",
       "      <td>5801</td>\n",
       "      <td>5090</td>\n",
       "      <td>167</td>\n",
       "      <td>3</td>\n",
       "      <td>151</td>\n",
       "      <td>51</td>\n",
       "      <td>8</td>\n",
       "      <td>3694</td>\n",
       "      <td>1042</td>\n",
       "      <td>...</td>\n",
       "      <td>397.0</td>\n",
       "      <td>717.0</td>\n",
       "      <td>123.0</td>\n",
       "      <td>12</td>\n",
       "      <td>431</td>\n",
       "      <td>297</td>\n",
       "      <td>711</td>\n",
       "      <td>10.0</td>\n",
       "      <td>213</td>\n",
       "      <td>7734000</td>\n",
       "    </tr>\n",
       "    <tr>\n",
       "      <th>16</th>\n",
       "      <td>1966</td>\n",
       "      <td>6063</td>\n",
       "      <td>5263</td>\n",
       "      <td>184</td>\n",
       "      <td>3</td>\n",
       "      <td>166</td>\n",
       "      <td>48</td>\n",
       "      <td>8</td>\n",
       "      <td>3736</td>\n",
       "      <td>1031</td>\n",
       "      <td>...</td>\n",
       "      <td>350.0</td>\n",
       "      <td>641.0</td>\n",
       "      <td>168.0</td>\n",
       "      <td>14</td>\n",
       "      <td>529</td>\n",
       "      <td>287</td>\n",
       "      <td>800</td>\n",
       "      <td>13.0</td>\n",
       "      <td>218</td>\n",
       "      <td>7808000</td>\n",
       "    </tr>\n",
       "    <tr>\n",
       "      <th>17</th>\n",
       "      <td>1967</td>\n",
       "      <td>6421</td>\n",
       "      <td>5555</td>\n",
       "      <td>189</td>\n",
       "      <td>2</td>\n",
       "      <td>173</td>\n",
       "      <td>49</td>\n",
       "      <td>8</td>\n",
       "      <td>3939</td>\n",
       "      <td>1086</td>\n",
       "      <td>...</td>\n",
       "      <td>384.0</td>\n",
       "      <td>639.0</td>\n",
       "      <td>204.0</td>\n",
       "      <td>13</td>\n",
       "      <td>548</td>\n",
       "      <td>314</td>\n",
       "      <td>867</td>\n",
       "      <td>51.0</td>\n",
       "      <td>229</td>\n",
       "      <td>7868000</td>\n",
       "    </tr>\n",
       "    <tr>\n",
       "      <th>18</th>\n",
       "      <td>1968</td>\n",
       "      <td>7166</td>\n",
       "      <td>6242</td>\n",
       "      <td>228</td>\n",
       "      <td>1</td>\n",
       "      <td>212</td>\n",
       "      <td>47</td>\n",
       "      <td>8</td>\n",
       "      <td>4240</td>\n",
       "      <td>1232</td>\n",
       "      <td>...</td>\n",
       "      <td>396.0</td>\n",
       "      <td>628.0</td>\n",
       "      <td>291.0</td>\n",
       "      <td>15</td>\n",
       "      <td>801</td>\n",
       "      <td>364</td>\n",
       "      <td>924</td>\n",
       "      <td>101.0</td>\n",
       "      <td>201</td>\n",
       "      <td>7914000</td>\n",
       "    </tr>\n",
       "    <tr>\n",
       "      <th>19</th>\n",
       "      <td>1969</td>\n",
       "      <td>7671</td>\n",
       "      <td>6036</td>\n",
       "      <td>241</td>\n",
       "      <td>1</td>\n",
       "      <td>223</td>\n",
       "      <td>42</td>\n",
       "      <td>8</td>\n",
       "      <td>4142</td>\n",
       "      <td>1131</td>\n",
       "      <td>...</td>\n",
       "      <td>384.0</td>\n",
       "      <td>574.0</td>\n",
       "      <td>255.0</td>\n",
       "      <td>16</td>\n",
       "      <td>681</td>\n",
       "      <td>376</td>\n",
       "      <td>1635</td>\n",
       "      <td>552.0</td>\n",
       "      <td>231</td>\n",
       "      <td>7968000</td>\n",
       "    </tr>\n",
       "  </tbody>\n",
       "</table>\n",
       "<p>5 rows × 21 columns</p>\n",
       "</div>"
      ],
      "text/plain": [
       "    Year  crimes.total  crimes.penal.code  crimes.person  murder  assault  \\\n",
       "15  1965          5801               5090            167       3      151   \n",
       "16  1966          6063               5263            184       3      166   \n",
       "17  1967          6421               5555            189       2      173   \n",
       "18  1968          7166               6242            228       1      212   \n",
       "19  1969          7671               6036            241       1      223   \n",
       "\n",
       "    sexual.offenses  rape  stealing.general  burglary  ...  vehicle.theft  \\\n",
       "15               51     8              3694      1042  ...          397.0   \n",
       "16               48     8              3736      1031  ...          350.0   \n",
       "17               49     8              3939      1086  ...          384.0   \n",
       "18               47     8              4240      1232  ...          396.0   \n",
       "19               42     8              4142      1131  ...          384.0   \n",
       "\n",
       "    out.of.vehicle.theft  shop.theft  robbery  fraud  criminal.damage  \\\n",
       "15                 717.0       123.0       12    431              297   \n",
       "16                 641.0       168.0       14    529              287   \n",
       "17                 639.0       204.0       13    548              314   \n",
       "18                 628.0       291.0       15    801              364   \n",
       "19                 574.0       255.0       16    681              376   \n",
       "\n",
       "    other.penal.crimes  narcotics  drunk.driving  population  \n",
       "15                 711       10.0            213     7734000  \n",
       "16                 800       13.0            218     7808000  \n",
       "17                 867       51.0            229     7868000  \n",
       "18                 924      101.0            201     7914000  \n",
       "19                1635      552.0            231     7968000  \n",
       "\n",
       "[5 rows x 21 columns]"
      ]
     },
     "execution_count": 3,
     "metadata": {},
     "output_type": "execute_result"
    }
   ],
   "source": [
    "df = df.dropna(axis = 0)\n",
    "df.head()"
   ]
  },
  {
   "cell_type": "markdown",
   "metadata": {},
   "source": [
    "Now from the crime let's analysize the crimes that affect the women safety\n",
    "\n",
    "1. Sexual offenses\n",
    "\n",
    "2. Rape\n",
    "\n",
    "3. Assault"
   ]
  },
  {
   "cell_type": "markdown",
   "metadata": {},
   "source": [
    "### Sweden has always been in the news recently due to growing sexual offences. Let’s check the same with historical data."
   ]
  },
  {
   "cell_type": "markdown",
   "metadata": {},
   "source": [
    "### Comparing all the three together"
   ]
  },
  {
   "cell_type": "code",
   "execution_count": 6,
   "metadata": {},
   "outputs": [
    {
     "data": {
      "image/png": "[encoded data removed]",
      "text/plain": [
       "<Figure size 432x288 with 1 Axes>"
      ]
     },
     "metadata": {
      "needs_background": "light"
     },
     "output_type": "display_data"
    }
   ],
   "source": [
    "x = df['Year'].head()\n",
    "\n",
    "\n",
    "y = df['sexual.offenses'].head()\n",
    "z =df['rape'].head()\n",
    "k =df['assault'].head()\n",
    "\n",
    "ax = plt.subplot(111)\n",
    "ax.bar(x-0.2, y, width=0.2, color='b', align='center',label='Sexual offense')\n",
    "ax.bar(x, z, width=0.2, color='g', align='center',label=\"rape\")\n",
    "ax.bar(x+0.2, k, width=0.2, color='r', align='center',label='Assault')\n",
    "plt.legend()\n",
    "plt.xlabel('Year')\n",
    "plt.grid()\n",
    "plt.show()"
   ]
  },
  {
   "cell_type": "code",
   "execution_count": 7,
   "metadata": {},
   "outputs": [
    {
     "data": {
      "image/png": "[encoded data removed]",
      "text/plain": [
       "<Figure size 432x288 with 1 Axes>"
      ]
     },
     "metadata": {
      "needs_background": "light"
     },
     "output_type": "display_data"
    }
   ],
   "source": [
    "plt.plot(df['Year'],df['rape'],label='rape')\n",
    "plt.plot(df['Year'],df['assault'],label='assault')\n",
    "plt.plot(df['Year'],df['sexual.offenses'],label='sexual offenses')\n",
    "plt.legend()\n",
    "plt.xlabel('Year')\n",
    "plt.title('Comparison')\n",
    "plt.grid()\n",
    "plt.show()"
   ]
  },
  {
   "cell_type": "code",
   "execution_count": 8,
   "metadata": {},
   "outputs": [
    {
     "data": {
      "image/png": "[encoded data removed]",
      "text/plain": [
       "<Figure size 540x540 with 12 Axes>"
      ]
     },
     "metadata": {
      "needs_background": "light"
     },
     "output_type": "display_data"
    }
   ],
   "source": [
    "import seaborn as sns\n",
    "g = sns.pairplot(df[['rape','assault','sexual.offenses']], plot_kws={'color':'#0EDCA9'})"
   ]
  },
  {
   "cell_type": "code",
   "execution_count": 90,
   "metadata": {},
   "outputs": [],
   "source": [
    "import seaborn as sns\n",
    "sns.set()"
   ]
  },
  {
   "cell_type": "code",
   "execution_count": 91,
   "metadata": {},
   "outputs": [
    {
     "data": {
      "image/png": "[encoded data removed]",
      "text/plain": [
       "<Figure size 432x288 with 1 Axes>"
      ]
     },
     "metadata": {},
     "output_type": "display_data"
    }
   ],
   "source": [
    "#scatter plot \n",
    "ax = sns.scatterplot(x='Year', y='sexual.offenses', data = df,color='green')\n",
    "\n"
   ]
  },
  {
   "cell_type": "code",
   "execution_count": 92,
   "metadata": {},
   "outputs": [
    {
     "data": {
      "image/png": "[encoded data removed]",
      "text/plain": [
       "<Figure size 432x288 with 1 Axes>"
      ]
     },
     "metadata": {},
     "output_type": "display_data"
    }
   ],
   "source": [
    "\n",
    "ax = sns.barplot(x=\"Year\", y=\"sexual.offenses\", data=df)\n",
    "#barplot\n"
   ]
  },
  {
   "cell_type": "code",
   "execution_count": 93,
   "metadata": {},
   "outputs": [
    {
     "data": {
      "image/png": "[encoded data removed]",
      "text/plain": [
       "<Figure size 432x288 with 1 Axes>"
      ]
     },
     "metadata": {},
     "output_type": "display_data"
    }
   ],
   "source": [
    "#distplot\n",
    "x = df['sexual.offenses'].values\n",
    "\n",
    "sns.distplot(x, color = 'blue');"
   ]
  },
  {
   "cell_type": "code",
   "execution_count": 94,
   "metadata": {},
   "outputs": [
    {
     "name": "stdout",
     "output_type": "stream",
     "text": [
      "84.31372549019608\n"
     ]
    },
    {
     "data": {
      "image/png": "[encoded data removed]",
      "text/plain": [
       "<Figure size 432x288 with 1 Axes>"
      ]
     },
     "metadata": {},
     "output_type": "display_data"
    }
   ],
   "source": [
    "x = df['sexual.offenses'].values\n",
    "\n",
    "sns.distplot(x, color = 'blue');\n",
    "# Calculating the mean\n",
    "mean = df['sexual.offenses'].mean()\n",
    "\n",
    "#ploting the mean\n",
    "plt.axvline(mean, 0,1, color = 'red')\n",
    "print(mean)"
   ]
  },
  {
   "cell_type": "code",
   "execution_count": 95,
   "metadata": {},
   "outputs": [
    {
     "name": "stdout",
     "output_type": "stream",
     "text": [
      "The meadian is:  64.0\n"
     ]
    },
    {
     "data": {
      "image/png": "[encoded data removed]",
      "text/plain": [
       "<Figure size 432x288 with 1 Axes>"
      ]
     },
     "metadata": {},
     "output_type": "display_data"
    }
   ],
   "source": [
    "#box plot for the data\n",
    "x = df['sexual.offenses'].values\n",
    "\n",
    "ax = sns.boxplot(x)\n",
    "print('The meadian is: ', df['sexual.offenses'].median())\n"
   ]
  },
  {
   "cell_type": "markdown",
   "metadata": {},
   "source": [
    "### For linear relation between the sexual offenses and year\n"
   ]
  },
  {
   "cell_type": "code",
   "execution_count": 96,
   "metadata": {},
   "outputs": [
    {
     "data": {
      "image/png": "[encoded data removed]",
      "text/plain": [
       "<Figure size 648x648 with 1 Axes>"
      ]
     },
     "metadata": {},
     "output_type": "display_data"
    }
   ],
   "source": [
    "ax = sns.lmplot(x=\"Year\", y=\"sexual.offenses\", data=df, height=9)\n"
   ]
  },
  {
   "cell_type": "markdown",
   "metadata": {},
   "source": [
    "### Rape"
   ]
  },
  {
   "cell_type": "code",
   "execution_count": 97,
   "metadata": {},
   "outputs": [
    {
     "data": {
      "image/png": "[encoded data removed]",
      "text/plain": [
       "<Figure size 432x288 with 1 Axes>"
      ]
     },
     "metadata": {},
     "output_type": "display_data"
    }
   ],
   "source": [
    "import seaborn as sns\n",
    "ax = sns.scatterplot(x='Year', y='rape', data = df,color='green')\n",
    "\n"
   ]
  },
  {
   "cell_type": "code",
   "execution_count": 98,
   "metadata": {},
   "outputs": [
    {
     "data": {
      "image/png": "[encoded data removed]",
      "text/plain": [
       "<Figure size 432x288 with 1 Axes>"
      ]
     },
     "metadata": {},
     "output_type": "display_data"
    }
   ],
   "source": [
    "ax = sns.barplot(x=\"Year\", y=\"rape\", data=df)\n"
   ]
  },
  {
   "cell_type": "code",
   "execution_count": 99,
   "metadata": {},
   "outputs": [
    {
     "name": "stdout",
     "output_type": "stream",
     "text": [
      "The meadian is:  17.0\n"
     ]
    },
    {
     "data": {
      "image/png": "[encoded data removed]",
      "text/plain": [
       "<Figure size 432x288 with 1 Axes>"
      ]
     },
     "metadata": {},
     "output_type": "display_data"
    }
   ],
   "source": [
    "#box plot for the data\n",
    "x = df['rape'].values\n",
    "\n",
    "ax = sns.boxplot(x)\n",
    "print('The meadian is: ', df['rape'].median())\n"
   ]
  },
  {
   "cell_type": "code",
   "execution_count": 100,
   "metadata": {},
   "outputs": [
    {
     "data": {
      "image/png": "[encoded data removed]",
      "text/plain": [
       "<Figure size 648x648 with 1 Axes>"
      ]
     },
     "metadata": {},
     "output_type": "display_data"
    }
   ],
   "source": [
    "ax = sns.lmplot(x=\"Year\", y=\"rape\", data=df, height=9)"
   ]
  },
  {
   "cell_type": "markdown",
   "metadata": {},
   "source": [
    "### Assaults"
   ]
  },
  {
   "cell_type": "code",
   "execution_count": 101,
   "metadata": {},
   "outputs": [
    {
     "data": {
      "image/png": "[encoded data removed]",
      "text/plain": [
       "<Figure size 432x288 with 1 Axes>"
      ]
     },
     "metadata": {},
     "output_type": "display_data"
    }
   ],
   "source": [
    "#scatter plot\n",
    "ax = sns.scatterplot(x='Year', y='assault', data = df,color='green')\n",
    "\n"
   ]
  },
  {
   "cell_type": "code",
   "execution_count": 102,
   "metadata": {},
   "outputs": [
    {
     "data": {
      "image/png": "[encoded data removed]",
      "text/plain": [
       "<Figure size 432x288 with 1 Axes>"
      ]
     },
     "metadata": {},
     "output_type": "display_data"
    }
   ],
   "source": [
    "ax = sns.barplot(x=\"Year\", y=\"assault\", data=df)"
   ]
  },
  {
   "cell_type": "code",
   "execution_count": 103,
   "metadata": {},
   "outputs": [
    {
     "name": "stdout",
     "output_type": "stream",
     "text": [
      "The meadian is:  469.0\n"
     ]
    },
    {
     "data": {
      "image/png": "[encoded data removed]",
      "text/plain": [
       "<Figure size 432x288 with 1 Axes>"
      ]
     },
     "metadata": {},
     "output_type": "display_data"
    }
   ],
   "source": [
    "#box plot for the data\n",
    "x = df['assault'].values\n",
    "\n",
    "ax = sns.boxplot(x)\n",
    "print('The meadian is: ', df['assault'].median())\n"
   ]
  },
  {
   "cell_type": "code",
   "execution_count": 104,
   "metadata": {},
   "outputs": [
    {
     "name": "stdout",
     "output_type": "stream",
     "text": [
      "514.3725490196078\n"
     ]
    },
    {
     "data": {
      "image/png": "[encoded data removed]",
      "text/plain": [
       "<Figure size 432x288 with 1 Axes>"
      ]
     },
     "metadata": {},
     "output_type": "display_data"
    }
   ],
   "source": [
    "x = df['assault'].values\n",
    "\n",
    "sns.distplot(x, color = 'blue');\n",
    "# Calculating the mean\n",
    "mean = df['assault'].mean()\n",
    "\n",
    "#ploting the mean\n",
    "plt.axvline(mean, 0,1, color = 'red')\n",
    "print(mean)"
   ]
  },
  {
   "cell_type": "code",
   "execution_count": 105,
   "metadata": {},
   "outputs": [
    {
     "data": {
      "image/png": "[encoded data removed]",
      "text/plain": [
       "<Figure size 648x648 with 1 Axes>"
      ]
     },
     "metadata": {},
     "output_type": "display_data"
    }
   ],
   "source": [
    "ax = sns.lmplot(x=\"Year\", y=\"assault\", data=df, height=9)"
   ]
  },
  {
   "cell_type": "markdown",
   "metadata": {},
   "source": [
    "### Sweden is not safe for women as these cases are increasing "
   ]
  },
  {
   "cell_type": "markdown",
   "metadata": {},
   "source": [
    " According to a 2014 study published by the European Union Agency for Fundamental Rights (FRA), approximately one third of all women in the EU were said to have suffered physical and/or sexual abuse. At the top end was Denmark (52%), Finland (47%) and Sweden (46%)."
   ]
  },
  {
   "cell_type": "markdown",
   "metadata": {},
   "source": [
    "\n",
    "Every second woman in the EU has experienced sexual harassment at least once since the age of 15. In Sweden that figure was 81 percent"
   ]
  },
  {
   "cell_type": "markdown",
   "metadata": {},
   "source": [
    "### Lets create a decision tree to eavluate whether it is safe or not?"
   ]
  },
  {
   "cell_type": "code",
   "execution_count": 6,
   "metadata": {},
   "outputs": [
    {
     "data": {
      "text/html": [
       "<div>\n",
       "<style scoped>\n",
       "    .dataframe tbody tr th:only-of-type {\n",
       "        vertical-align: middle;\n",
       "    }\n",
       "\n",
       "    .dataframe tbody tr th {\n",
       "        vertical-align: top;\n",
       "    }\n",
       "\n",
       "    .dataframe thead th {\n",
       "        text-align: right;\n",
       "    }\n",
       "</style>\n",
       "<table border=\"1\" class=\"dataframe\">\n",
       "  <thead>\n",
       "    <tr style=\"text-align: right;\">\n",
       "      <th></th>\n",
       "      <th>Year</th>\n",
       "      <th>crimes.total</th>\n",
       "      <th>crimes.penal.code</th>\n",
       "      <th>crimes.person</th>\n",
       "      <th>murder</th>\n",
       "      <th>assault</th>\n",
       "      <th>sexual.offenses</th>\n",
       "      <th>rape</th>\n",
       "      <th>stealing.general</th>\n",
       "      <th>burglary</th>\n",
       "      <th>...</th>\n",
       "      <th>vehicle.theft</th>\n",
       "      <th>out.of.vehicle.theft</th>\n",
       "      <th>shop.theft</th>\n",
       "      <th>robbery</th>\n",
       "      <th>fraud</th>\n",
       "      <th>criminal.damage</th>\n",
       "      <th>other.penal.crimes</th>\n",
       "      <th>narcotics</th>\n",
       "      <th>drunk.driving</th>\n",
       "      <th>population</th>\n",
       "    </tr>\n",
       "  </thead>\n",
       "  <tbody>\n",
       "    <tr>\n",
       "      <th>0</th>\n",
       "      <td>1950</td>\n",
       "      <td>2784</td>\n",
       "      <td>2306</td>\n",
       "      <td>120</td>\n",
       "      <td>1</td>\n",
       "      <td>105</td>\n",
       "      <td>40</td>\n",
       "      <td>5</td>\n",
       "      <td>1578</td>\n",
       "      <td>295</td>\n",
       "      <td>...</td>\n",
       "      <td>NaN</td>\n",
       "      <td>NaN</td>\n",
       "      <td>NaN</td>\n",
       "      <td>3</td>\n",
       "      <td>209</td>\n",
       "      <td>72</td>\n",
       "      <td>477</td>\n",
       "      <td>0.0</td>\n",
       "      <td>49</td>\n",
       "      <td>7014000</td>\n",
       "    </tr>\n",
       "    <tr>\n",
       "      <th>1</th>\n",
       "      <td>1951</td>\n",
       "      <td>3284</td>\n",
       "      <td>2754</td>\n",
       "      <td>125</td>\n",
       "      <td>1</td>\n",
       "      <td>109</td>\n",
       "      <td>45</td>\n",
       "      <td>6</td>\n",
       "      <td>1899</td>\n",
       "      <td>342</td>\n",
       "      <td>...</td>\n",
       "      <td>NaN</td>\n",
       "      <td>NaN</td>\n",
       "      <td>NaN</td>\n",
       "      <td>3</td>\n",
       "      <td>310</td>\n",
       "      <td>73</td>\n",
       "      <td>530</td>\n",
       "      <td>0.0</td>\n",
       "      <td>66</td>\n",
       "      <td>7073000</td>\n",
       "    </tr>\n",
       "    <tr>\n",
       "      <th>2</th>\n",
       "      <td>1952</td>\n",
       "      <td>3160</td>\n",
       "      <td>2608</td>\n",
       "      <td>119</td>\n",
       "      <td>1</td>\n",
       "      <td>104</td>\n",
       "      <td>39</td>\n",
       "      <td>4</td>\n",
       "      <td>1846</td>\n",
       "      <td>372</td>\n",
       "      <td>...</td>\n",
       "      <td>NaN</td>\n",
       "      <td>NaN</td>\n",
       "      <td>NaN</td>\n",
       "      <td>3</td>\n",
       "      <td>217</td>\n",
       "      <td>82</td>\n",
       "      <td>553</td>\n",
       "      <td>0.0</td>\n",
       "      <td>78</td>\n",
       "      <td>7125000</td>\n",
       "    </tr>\n",
       "    <tr>\n",
       "      <th>3</th>\n",
       "      <td>1953</td>\n",
       "      <td>2909</td>\n",
       "      <td>2689</td>\n",
       "      <td>119</td>\n",
       "      <td>1</td>\n",
       "      <td>105</td>\n",
       "      <td>45</td>\n",
       "      <td>5</td>\n",
       "      <td>1929</td>\n",
       "      <td>361</td>\n",
       "      <td>...</td>\n",
       "      <td>NaN</td>\n",
       "      <td>NaN</td>\n",
       "      <td>NaN</td>\n",
       "      <td>4</td>\n",
       "      <td>209</td>\n",
       "      <td>88</td>\n",
       "      <td>220</td>\n",
       "      <td>0.0</td>\n",
       "      <td>91</td>\n",
       "      <td>7171000</td>\n",
       "    </tr>\n",
       "    <tr>\n",
       "      <th>4</th>\n",
       "      <td>1954</td>\n",
       "      <td>3028</td>\n",
       "      <td>2791</td>\n",
       "      <td>126</td>\n",
       "      <td>1</td>\n",
       "      <td>107</td>\n",
       "      <td>41</td>\n",
       "      <td>5</td>\n",
       "      <td>1981</td>\n",
       "      <td>393</td>\n",
       "      <td>...</td>\n",
       "      <td>NaN</td>\n",
       "      <td>NaN</td>\n",
       "      <td>NaN</td>\n",
       "      <td>4</td>\n",
       "      <td>236</td>\n",
       "      <td>101</td>\n",
       "      <td>237</td>\n",
       "      <td>0.0</td>\n",
       "      <td>103</td>\n",
       "      <td>7213000</td>\n",
       "    </tr>\n",
       "    <tr>\n",
       "      <th>...</th>\n",
       "      <td>...</td>\n",
       "      <td>...</td>\n",
       "      <td>...</td>\n",
       "      <td>...</td>\n",
       "      <td>...</td>\n",
       "      <td>...</td>\n",
       "      <td>...</td>\n",
       "      <td>...</td>\n",
       "      <td>...</td>\n",
       "      <td>...</td>\n",
       "      <td>...</td>\n",
       "      <td>...</td>\n",
       "      <td>...</td>\n",
       "      <td>...</td>\n",
       "      <td>...</td>\n",
       "      <td>...</td>\n",
       "      <td>...</td>\n",
       "      <td>...</td>\n",
       "      <td>...</td>\n",
       "      <td>...</td>\n",
       "      <td>...</td>\n",
       "    </tr>\n",
       "    <tr>\n",
       "      <th>61</th>\n",
       "      <td>2011</td>\n",
       "      <td>14988</td>\n",
       "      <td>12267</td>\n",
       "      <td>1005</td>\n",
       "      <td>2</td>\n",
       "      <td>947</td>\n",
       "      <td>181</td>\n",
       "      <td>69</td>\n",
       "      <td>5783</td>\n",
       "      <td>995</td>\n",
       "      <td>...</td>\n",
       "      <td>213.0</td>\n",
       "      <td>706.0</td>\n",
       "      <td>663.0</td>\n",
       "      <td>103</td>\n",
       "      <td>1220</td>\n",
       "      <td>1774</td>\n",
       "      <td>2721</td>\n",
       "      <td>946.0</td>\n",
       "      <td>314</td>\n",
       "      <td>9449000</td>\n",
       "    </tr>\n",
       "    <tr>\n",
       "      <th>62</th>\n",
       "      <td>2012</td>\n",
       "      <td>14734</td>\n",
       "      <td>12148</td>\n",
       "      <td>974</td>\n",
       "      <td>2</td>\n",
       "      <td>914</td>\n",
       "      <td>178</td>\n",
       "      <td>66</td>\n",
       "      <td>5613</td>\n",
       "      <td>922</td>\n",
       "      <td>...</td>\n",
       "      <td>169.0</td>\n",
       "      <td>655.0</td>\n",
       "      <td>635.0</td>\n",
       "      <td>97</td>\n",
       "      <td>1356</td>\n",
       "      <td>1600</td>\n",
       "      <td>2586</td>\n",
       "      <td>994.0</td>\n",
       "      <td>286</td>\n",
       "      <td>9519000</td>\n",
       "    </tr>\n",
       "    <tr>\n",
       "      <th>63</th>\n",
       "      <td>2013</td>\n",
       "      <td>14603</td>\n",
       "      <td>12072</td>\n",
       "      <td>896</td>\n",
       "      <td>3</td>\n",
       "      <td>837</td>\n",
       "      <td>184</td>\n",
       "      <td>63</td>\n",
       "      <td>5552</td>\n",
       "      <td>888</td>\n",
       "      <td>...</td>\n",
       "      <td>159.0</td>\n",
       "      <td>543.0</td>\n",
       "      <td>509.0</td>\n",
       "      <td>87</td>\n",
       "      <td>1545</td>\n",
       "      <td>1470</td>\n",
       "      <td>2532</td>\n",
       "      <td>1002.0</td>\n",
       "      <td>279</td>\n",
       "      <td>9644000</td>\n",
       "    </tr>\n",
       "    <tr>\n",
       "      <th>64</th>\n",
       "      <td>2014</td>\n",
       "      <td>14890</td>\n",
       "      <td>12305</td>\n",
       "      <td>923</td>\n",
       "      <td>3</td>\n",
       "      <td>859</td>\n",
       "      <td>210</td>\n",
       "      <td>69</td>\n",
       "      <td>5572</td>\n",
       "      <td>913</td>\n",
       "      <td>...</td>\n",
       "      <td>147.0</td>\n",
       "      <td>542.0</td>\n",
       "      <td>505.0</td>\n",
       "      <td>86</td>\n",
       "      <td>1610</td>\n",
       "      <td>1559</td>\n",
       "      <td>2585</td>\n",
       "      <td>983.0</td>\n",
       "      <td>271</td>\n",
       "      <td>9747000</td>\n",
       "    </tr>\n",
       "    <tr>\n",
       "      <th>65</th>\n",
       "      <td>2015</td>\n",
       "      <td>15342</td>\n",
       "      <td>12803</td>\n",
       "      <td>932</td>\n",
       "      <td>3</td>\n",
       "      <td>868</td>\n",
       "      <td>184</td>\n",
       "      <td>60</td>\n",
       "      <td>5404</td>\n",
       "      <td>917</td>\n",
       "      <td>...</td>\n",
       "      <td>135.0</td>\n",
       "      <td>552.0</td>\n",
       "      <td>515.0</td>\n",
       "      <td>86</td>\n",
       "      <td>1896</td>\n",
       "      <td>1989</td>\n",
       "      <td>2539</td>\n",
       "      <td>960.0</td>\n",
       "      <td>267</td>\n",
       "      <td>9851000</td>\n",
       "    </tr>\n",
       "  </tbody>\n",
       "</table>\n",
       "<p>66 rows × 21 columns</p>\n",
       "</div>"
      ],
      "text/plain": [
       "    Year  crimes.total  crimes.penal.code  crimes.person  murder  assault  \\\n",
       "0   1950          2784               2306            120       1      105   \n",
       "1   1951          3284               2754            125       1      109   \n",
       "2   1952          3160               2608            119       1      104   \n",
       "3   1953          2909               2689            119       1      105   \n",
       "4   1954          3028               2791            126       1      107   \n",
       "..   ...           ...                ...            ...     ...      ...   \n",
       "61  2011         14988              12267           1005       2      947   \n",
       "62  2012         14734              12148            974       2      914   \n",
       "63  2013         14603              12072            896       3      837   \n",
       "64  2014         14890              12305            923       3      859   \n",
       "65  2015         15342              12803            932       3      868   \n",
       "\n",
       "    sexual.offenses  rape  stealing.general  burglary  ...  vehicle.theft  \\\n",
       "0                40     5              1578       295  ...            NaN   \n",
       "1                45     6              1899       342  ...            NaN   \n",
       "2                39     4              1846       372  ...            NaN   \n",
       "3                45     5              1929       361  ...            NaN   \n",
       "4                41     5              1981       393  ...            NaN   \n",
       "..              ...   ...               ...       ...  ...            ...   \n",
       "61              181    69              5783       995  ...          213.0   \n",
       "62              178    66              5613       922  ...          169.0   \n",
       "63              184    63              5552       888  ...          159.0   \n",
       "64              210    69              5572       913  ...          147.0   \n",
       "65              184    60              5404       917  ...          135.0   \n",
       "\n",
       "    out.of.vehicle.theft  shop.theft  robbery  fraud  criminal.damage  \\\n",
       "0                    NaN         NaN        3    209               72   \n",
       "1                    NaN         NaN        3    310               73   \n",
       "2                    NaN         NaN        3    217               82   \n",
       "3                    NaN         NaN        4    209               88   \n",
       "4                    NaN         NaN        4    236              101   \n",
       "..                   ...         ...      ...    ...              ...   \n",
       "61                 706.0       663.0      103   1220             1774   \n",
       "62                 655.0       635.0       97   1356             1600   \n",
       "63                 543.0       509.0       87   1545             1470   \n",
       "64                 542.0       505.0       86   1610             1559   \n",
       "65                 552.0       515.0       86   1896             1989   \n",
       "\n",
       "    other.penal.crimes  narcotics  drunk.driving  population  \n",
       "0                  477        0.0             49     7014000  \n",
       "1                  530        0.0             66     7073000  \n",
       "2                  553        0.0             78     7125000  \n",
       "3                  220        0.0             91     7171000  \n",
       "4                  237        0.0            103     7213000  \n",
       "..                 ...        ...            ...         ...  \n",
       "61                2721      946.0            314     9449000  \n",
       "62                2586      994.0            286     9519000  \n",
       "63                2532     1002.0            279     9644000  \n",
       "64                2585      983.0            271     9747000  \n",
       "65                2539      960.0            267     9851000  \n",
       "\n",
       "[66 rows x 21 columns]"
      ]
     },
     "execution_count": 6,
     "metadata": {},
     "output_type": "execute_result"
    }
   ],
   "source": [
    "df = pd.read_csv('Desktop/ML/datasets_851_1557_reported.csv')\n",
    "df"
   ]
  },
  {
   "cell_type": "code",
   "execution_count": 7,
   "metadata": {},
   "outputs": [],
   "source": [
    "#adding a column is safe?\n",
    "Issafe = [1,1,1,1,1,1,1,1,1,1,0,0,1,1,\n",
    "           0,0,1,1,1,1,1,1,1,1,0,0,0,0,\n",
    "           0,1,0,0,0,0,0,0,0,0,0,0,0,0,\n",
    "           0,0,0,0,0,0,0,0,0,0,0,0,0,0,\n",
    "           0,0,0,0,0,0,0,0,0,0]\n",
    "df['Is safe?'] = Issafe"
   ]
  },
  {
   "cell_type": "code",
   "execution_count": 8,
   "metadata": {},
   "outputs": [
    {
     "data": {
      "text/html": [
       "<div>\n",
       "<style scoped>\n",
       "    .dataframe tbody tr th:only-of-type {\n",
       "        vertical-align: middle;\n",
       "    }\n",
       "\n",
       "    .dataframe tbody tr th {\n",
       "        vertical-align: top;\n",
       "    }\n",
       "\n",
       "    .dataframe thead th {\n",
       "        text-align: right;\n",
       "    }\n",
       "</style>\n",
       "<table border=\"1\" class=\"dataframe\">\n",
       "  <thead>\n",
       "    <tr style=\"text-align: right;\">\n",
       "      <th></th>\n",
       "      <th>Year</th>\n",
       "      <th>crimes.total</th>\n",
       "      <th>crimes.penal.code</th>\n",
       "      <th>crimes.person</th>\n",
       "      <th>murder</th>\n",
       "      <th>assault</th>\n",
       "      <th>sexual.offenses</th>\n",
       "      <th>rape</th>\n",
       "      <th>stealing.general</th>\n",
       "      <th>burglary</th>\n",
       "      <th>...</th>\n",
       "      <th>out.of.vehicle.theft</th>\n",
       "      <th>shop.theft</th>\n",
       "      <th>robbery</th>\n",
       "      <th>fraud</th>\n",
       "      <th>criminal.damage</th>\n",
       "      <th>other.penal.crimes</th>\n",
       "      <th>narcotics</th>\n",
       "      <th>drunk.driving</th>\n",
       "      <th>population</th>\n",
       "      <th>Is safe?</th>\n",
       "    </tr>\n",
       "  </thead>\n",
       "  <tbody>\n",
       "    <tr>\n",
       "      <th>0</th>\n",
       "      <td>1950</td>\n",
       "      <td>2784</td>\n",
       "      <td>2306</td>\n",
       "      <td>120</td>\n",
       "      <td>1</td>\n",
       "      <td>105</td>\n",
       "      <td>40</td>\n",
       "      <td>5</td>\n",
       "      <td>1578</td>\n",
       "      <td>295</td>\n",
       "      <td>...</td>\n",
       "      <td>NaN</td>\n",
       "      <td>NaN</td>\n",
       "      <td>3</td>\n",
       "      <td>209</td>\n",
       "      <td>72</td>\n",
       "      <td>477</td>\n",
       "      <td>0.0</td>\n",
       "      <td>49</td>\n",
       "      <td>7014000</td>\n",
       "      <td>1</td>\n",
       "    </tr>\n",
       "    <tr>\n",
       "      <th>1</th>\n",
       "      <td>1951</td>\n",
       "      <td>3284</td>\n",
       "      <td>2754</td>\n",
       "      <td>125</td>\n",
       "      <td>1</td>\n",
       "      <td>109</td>\n",
       "      <td>45</td>\n",
       "      <td>6</td>\n",
       "      <td>1899</td>\n",
       "      <td>342</td>\n",
       "      <td>...</td>\n",
       "      <td>NaN</td>\n",
       "      <td>NaN</td>\n",
       "      <td>3</td>\n",
       "      <td>310</td>\n",
       "      <td>73</td>\n",
       "      <td>530</td>\n",
       "      <td>0.0</td>\n",
       "      <td>66</td>\n",
       "      <td>7073000</td>\n",
       "      <td>1</td>\n",
       "    </tr>\n",
       "    <tr>\n",
       "      <th>2</th>\n",
       "      <td>1952</td>\n",
       "      <td>3160</td>\n",
       "      <td>2608</td>\n",
       "      <td>119</td>\n",
       "      <td>1</td>\n",
       "      <td>104</td>\n",
       "      <td>39</td>\n",
       "      <td>4</td>\n",
       "      <td>1846</td>\n",
       "      <td>372</td>\n",
       "      <td>...</td>\n",
       "      <td>NaN</td>\n",
       "      <td>NaN</td>\n",
       "      <td>3</td>\n",
       "      <td>217</td>\n",
       "      <td>82</td>\n",
       "      <td>553</td>\n",
       "      <td>0.0</td>\n",
       "      <td>78</td>\n",
       "      <td>7125000</td>\n",
       "      <td>1</td>\n",
       "    </tr>\n",
       "    <tr>\n",
       "      <th>3</th>\n",
       "      <td>1953</td>\n",
       "      <td>2909</td>\n",
       "      <td>2689</td>\n",
       "      <td>119</td>\n",
       "      <td>1</td>\n",
       "      <td>105</td>\n",
       "      <td>45</td>\n",
       "      <td>5</td>\n",
       "      <td>1929</td>\n",
       "      <td>361</td>\n",
       "      <td>...</td>\n",
       "      <td>NaN</td>\n",
       "      <td>NaN</td>\n",
       "      <td>4</td>\n",
       "      <td>209</td>\n",
       "      <td>88</td>\n",
       "      <td>220</td>\n",
       "      <td>0.0</td>\n",
       "      <td>91</td>\n",
       "      <td>7171000</td>\n",
       "      <td>1</td>\n",
       "    </tr>\n",
       "    <tr>\n",
       "      <th>4</th>\n",
       "      <td>1954</td>\n",
       "      <td>3028</td>\n",
       "      <td>2791</td>\n",
       "      <td>126</td>\n",
       "      <td>1</td>\n",
       "      <td>107</td>\n",
       "      <td>41</td>\n",
       "      <td>5</td>\n",
       "      <td>1981</td>\n",
       "      <td>393</td>\n",
       "      <td>...</td>\n",
       "      <td>NaN</td>\n",
       "      <td>NaN</td>\n",
       "      <td>4</td>\n",
       "      <td>236</td>\n",
       "      <td>101</td>\n",
       "      <td>237</td>\n",
       "      <td>0.0</td>\n",
       "      <td>103</td>\n",
       "      <td>7213000</td>\n",
       "      <td>1</td>\n",
       "    </tr>\n",
       "  </tbody>\n",
       "</table>\n",
       "<p>5 rows × 22 columns</p>\n",
       "</div>"
      ],
      "text/plain": [
       "   Year  crimes.total  crimes.penal.code  crimes.person  murder  assault  \\\n",
       "0  1950          2784               2306            120       1      105   \n",
       "1  1951          3284               2754            125       1      109   \n",
       "2  1952          3160               2608            119       1      104   \n",
       "3  1953          2909               2689            119       1      105   \n",
       "4  1954          3028               2791            126       1      107   \n",
       "\n",
       "   sexual.offenses  rape  stealing.general  burglary  ...  \\\n",
       "0               40     5              1578       295  ...   \n",
       "1               45     6              1899       342  ...   \n",
       "2               39     4              1846       372  ...   \n",
       "3               45     5              1929       361  ...   \n",
       "4               41     5              1981       393  ...   \n",
       "\n",
       "   out.of.vehicle.theft  shop.theft  robbery  fraud  criminal.damage  \\\n",
       "0                   NaN         NaN        3    209               72   \n",
       "1                   NaN         NaN        3    310               73   \n",
       "2                   NaN         NaN        3    217               82   \n",
       "3                   NaN         NaN        4    209               88   \n",
       "4                   NaN         NaN        4    236              101   \n",
       "\n",
       "   other.penal.crimes  narcotics  drunk.driving  population  Is safe?  \n",
       "0                 477        0.0             49     7014000         1  \n",
       "1                 530        0.0             66     7073000         1  \n",
       "2                 553        0.0             78     7125000         1  \n",
       "3                 220        0.0             91     7171000         1  \n",
       "4                 237        0.0            103     7213000         1  \n",
       "\n",
       "[5 rows x 22 columns]"
      ]
     },
     "execution_count": 8,
     "metadata": {},
     "output_type": "execute_result"
    }
   ],
   "source": [
    "df.head()"
   ]
  },
  {
   "cell_type": "code",
   "execution_count": 9,
   "metadata": {},
   "outputs": [
    {
     "name": "stdout",
     "output_type": "stream",
     "text": [
      "house.theft             15\n",
      "vehicle.theft            7\n",
      "out.of.vehicle.theft    15\n",
      "shop.theft              15\n",
      "narcotics                4\n",
      "dtype: int64\n"
     ]
    }
   ],
   "source": [
    "missing_val_count_by_column = (df.isnull().sum())\n",
    "print(missing_val_count_by_column[missing_val_count_by_column>0])"
   ]
  },
  {
   "cell_type": "code",
   "execution_count": 10,
   "metadata": {},
   "outputs": [
    {
     "data": {
      "text/html": [
       "<div>\n",
       "<style scoped>\n",
       "    .dataframe tbody tr th:only-of-type {\n",
       "        vertical-align: middle;\n",
       "    }\n",
       "\n",
       "    .dataframe tbody tr th {\n",
       "        vertical-align: top;\n",
       "    }\n",
       "\n",
       "    .dataframe thead th {\n",
       "        text-align: right;\n",
       "    }\n",
       "</style>\n",
       "<table border=\"1\" class=\"dataframe\">\n",
       "  <thead>\n",
       "    <tr style=\"text-align: right;\">\n",
       "      <th></th>\n",
       "      <th>Year</th>\n",
       "      <th>crimes.total</th>\n",
       "      <th>crimes.penal.code</th>\n",
       "      <th>crimes.person</th>\n",
       "      <th>murder</th>\n",
       "      <th>assault</th>\n",
       "      <th>sexual.offenses</th>\n",
       "      <th>rape</th>\n",
       "      <th>stealing.general</th>\n",
       "      <th>burglary</th>\n",
       "      <th>...</th>\n",
       "      <th>out.of.vehicle.theft</th>\n",
       "      <th>shop.theft</th>\n",
       "      <th>robbery</th>\n",
       "      <th>fraud</th>\n",
       "      <th>criminal.damage</th>\n",
       "      <th>other.penal.crimes</th>\n",
       "      <th>narcotics</th>\n",
       "      <th>drunk.driving</th>\n",
       "      <th>population</th>\n",
       "      <th>Is safe?</th>\n",
       "    </tr>\n",
       "  </thead>\n",
       "  <tbody>\n",
       "    <tr>\n",
       "      <th>15</th>\n",
       "      <td>1965</td>\n",
       "      <td>5801</td>\n",
       "      <td>5090</td>\n",
       "      <td>167</td>\n",
       "      <td>3</td>\n",
       "      <td>151</td>\n",
       "      <td>51</td>\n",
       "      <td>8</td>\n",
       "      <td>3694</td>\n",
       "      <td>1042</td>\n",
       "      <td>...</td>\n",
       "      <td>717.0</td>\n",
       "      <td>123.0</td>\n",
       "      <td>12</td>\n",
       "      <td>431</td>\n",
       "      <td>297</td>\n",
       "      <td>711</td>\n",
       "      <td>10.0</td>\n",
       "      <td>213</td>\n",
       "      <td>7734000</td>\n",
       "      <td>0</td>\n",
       "    </tr>\n",
       "    <tr>\n",
       "      <th>16</th>\n",
       "      <td>1966</td>\n",
       "      <td>6063</td>\n",
       "      <td>5263</td>\n",
       "      <td>184</td>\n",
       "      <td>3</td>\n",
       "      <td>166</td>\n",
       "      <td>48</td>\n",
       "      <td>8</td>\n",
       "      <td>3736</td>\n",
       "      <td>1031</td>\n",
       "      <td>...</td>\n",
       "      <td>641.0</td>\n",
       "      <td>168.0</td>\n",
       "      <td>14</td>\n",
       "      <td>529</td>\n",
       "      <td>287</td>\n",
       "      <td>800</td>\n",
       "      <td>13.0</td>\n",
       "      <td>218</td>\n",
       "      <td>7808000</td>\n",
       "      <td>1</td>\n",
       "    </tr>\n",
       "    <tr>\n",
       "      <th>17</th>\n",
       "      <td>1967</td>\n",
       "      <td>6421</td>\n",
       "      <td>5555</td>\n",
       "      <td>189</td>\n",
       "      <td>2</td>\n",
       "      <td>173</td>\n",
       "      <td>49</td>\n",
       "      <td>8</td>\n",
       "      <td>3939</td>\n",
       "      <td>1086</td>\n",
       "      <td>...</td>\n",
       "      <td>639.0</td>\n",
       "      <td>204.0</td>\n",
       "      <td>13</td>\n",
       "      <td>548</td>\n",
       "      <td>314</td>\n",
       "      <td>867</td>\n",
       "      <td>51.0</td>\n",
       "      <td>229</td>\n",
       "      <td>7868000</td>\n",
       "      <td>1</td>\n",
       "    </tr>\n",
       "    <tr>\n",
       "      <th>18</th>\n",
       "      <td>1968</td>\n",
       "      <td>7166</td>\n",
       "      <td>6242</td>\n",
       "      <td>228</td>\n",
       "      <td>1</td>\n",
       "      <td>212</td>\n",
       "      <td>47</td>\n",
       "      <td>8</td>\n",
       "      <td>4240</td>\n",
       "      <td>1232</td>\n",
       "      <td>...</td>\n",
       "      <td>628.0</td>\n",
       "      <td>291.0</td>\n",
       "      <td>15</td>\n",
       "      <td>801</td>\n",
       "      <td>364</td>\n",
       "      <td>924</td>\n",
       "      <td>101.0</td>\n",
       "      <td>201</td>\n",
       "      <td>7914000</td>\n",
       "      <td>1</td>\n",
       "    </tr>\n",
       "    <tr>\n",
       "      <th>19</th>\n",
       "      <td>1969</td>\n",
       "      <td>7671</td>\n",
       "      <td>6036</td>\n",
       "      <td>241</td>\n",
       "      <td>1</td>\n",
       "      <td>223</td>\n",
       "      <td>42</td>\n",
       "      <td>8</td>\n",
       "      <td>4142</td>\n",
       "      <td>1131</td>\n",
       "      <td>...</td>\n",
       "      <td>574.0</td>\n",
       "      <td>255.0</td>\n",
       "      <td>16</td>\n",
       "      <td>681</td>\n",
       "      <td>376</td>\n",
       "      <td>1635</td>\n",
       "      <td>552.0</td>\n",
       "      <td>231</td>\n",
       "      <td>7968000</td>\n",
       "      <td>1</td>\n",
       "    </tr>\n",
       "  </tbody>\n",
       "</table>\n",
       "<p>5 rows × 22 columns</p>\n",
       "</div>"
      ],
      "text/plain": [
       "    Year  crimes.total  crimes.penal.code  crimes.person  murder  assault  \\\n",
       "15  1965          5801               5090            167       3      151   \n",
       "16  1966          6063               5263            184       3      166   \n",
       "17  1967          6421               5555            189       2      173   \n",
       "18  1968          7166               6242            228       1      212   \n",
       "19  1969          7671               6036            241       1      223   \n",
       "\n",
       "    sexual.offenses  rape  stealing.general  burglary  ...  \\\n",
       "15               51     8              3694      1042  ...   \n",
       "16               48     8              3736      1031  ...   \n",
       "17               49     8              3939      1086  ...   \n",
       "18               47     8              4240      1232  ...   \n",
       "19               42     8              4142      1131  ...   \n",
       "\n",
       "    out.of.vehicle.theft  shop.theft  robbery  fraud  criminal.damage  \\\n",
       "15                 717.0       123.0       12    431              297   \n",
       "16                 641.0       168.0       14    529              287   \n",
       "17                 639.0       204.0       13    548              314   \n",
       "18                 628.0       291.0       15    801              364   \n",
       "19                 574.0       255.0       16    681              376   \n",
       "\n",
       "    other.penal.crimes  narcotics  drunk.driving  population  Is safe?  \n",
       "15                 711       10.0            213     7734000         0  \n",
       "16                 800       13.0            218     7808000         1  \n",
       "17                 867       51.0            229     7868000         1  \n",
       "18                 924      101.0            201     7914000         1  \n",
       "19                1635      552.0            231     7968000         1  \n",
       "\n",
       "[5 rows x 22 columns]"
      ]
     },
     "execution_count": 10,
     "metadata": {},
     "output_type": "execute_result"
    }
   ],
   "source": [
    "df = df.dropna(axis = 0)\n",
    "df.head()"
   ]
  },
  {
   "cell_type": "code",
   "execution_count": 67,
   "metadata": {},
   "outputs": [
    {
     "data": {
      "text/plain": [
       "['assault', 'sexual.offenses', 'rape']"
      ]
     },
     "execution_count": 67,
     "metadata": {},
     "output_type": "execute_result"
    }
   ],
   "source": [
    "features = list(df.columns[5:8])\n",
    "features"
   ]
  },
  {
   "cell_type": "markdown",
   "metadata": {},
   "source": [
    "### To check which algo suits well"
   ]
  },
  {
   "cell_type": "code",
   "execution_count": 20,
   "metadata": {},
   "outputs": [],
   "source": [
    "x = df.iloc[:,[5,6,7]].values\n",
    "y = df.iloc[:,21].values"
   ]
  },
  {
   "cell_type": "code",
   "execution_count": 21,
   "metadata": {},
   "outputs": [],
   "source": [
    "from sklearn.model_selection import train_test_split\n",
    "x_train, x_test, y_train, y_test = train_test_split(x, y, test_size = 0.2, random_state = 0)\n"
   ]
  },
  {
   "cell_type": "code",
   "execution_count": 22,
   "metadata": {},
   "outputs": [],
   "source": [
    "from sklearn.preprocessing import StandardScaler\n",
    "sc = StandardScaler()\n",
    "x_train = sc.fit_transform(x_train)\n",
    "x_test = sc.transform(x_test)"
   ]
  },
  {
   "cell_type": "code",
   "execution_count": 23,
   "metadata": {},
   "outputs": [],
   "source": [
    "from sklearn.linear_model import LogisticRegression\n",
    "\n",
    "from sklearn import svm, tree,naive_bayes,neighbors\n",
    "classifiers =[]\n",
    "model2 = svm.SVC()\n",
    "classifiers.append(model2)\n",
    "model3 = tree.DecisionTreeClassifier()\n",
    "classifiers.append(model3)\n",
    "model14 = LogisticRegression()\n",
    "classifiers.append(model14)\n",
    "model15 = naive_bayes.GaussianNB()\n",
    "classifiers.append(model15)\n",
    "model16 = neighbors.KNeighborsClassifier(n_neighbors=5, metric='minkowski', p=2)\n",
    "classifiers.append(model16)"
   ]
  },
  {
   "cell_type": "code",
   "execution_count": 87,
   "metadata": {},
   "outputs": [
    {
     "name": "stdout",
     "output_type": "stream",
     "text": [
      "Accuracy of SVC(C=1.0, break_ties=False, cache_size=200, class_weight=None, coef0=0.0,\n",
      "    decision_function_shape='ovr', degree=3, gamma='scale', kernel='rbf',\n",
      "    max_iter=-1, probability=False, random_state=None, shrinking=True,\n",
      "    tol=0.001, verbose=False) is 0.8461538461538461\n",
      "Confusion Matrix of is [[11  0]\n",
      " [ 2  0]]\n",
      "Accuracy of DecisionTreeClassifier(ccp_alpha=0.0, class_weight=None, criterion='gini',\n",
      "                       max_depth=None, max_features=None, max_leaf_nodes=None,\n",
      "                       min_impurity_decrease=0.0, min_impurity_split=None,\n",
      "                       min_samples_leaf=1, min_samples_split=2,\n",
      "                       min_weight_fraction_leaf=0.0, presort='deprecated',\n",
      "                       random_state=None, splitter='best') is 1.0\n",
      "Confusion Matrix of is [[11  0]\n",
      " [ 0  2]]\n",
      "Accuracy of LogisticRegression(C=1.0, class_weight=None, dual=False, fit_intercept=True,\n",
      "                   intercept_scaling=1, l1_ratio=None, max_iter=100,\n",
      "                   multi_class='auto', n_jobs=None, penalty='l2',\n",
      "                   random_state=None, solver='lbfgs', tol=0.0001, verbose=0,\n",
      "                   warm_start=False) is 0.8461538461538461\n",
      "Confusion Matrix of is [[11  0]\n",
      " [ 2  0]]\n",
      "Accuracy of GaussianNB(priors=None, var_smoothing=1e-09) is 0.8461538461538461\n",
      "Confusion Matrix of is [[9 2]\n",
      " [0 2]]\n",
      "Accuracy of KNeighborsClassifier(algorithm='auto', leaf_size=30, metric='minkowski',\n",
      "                     metric_params=None, n_jobs=None, n_neighbors=5, p=2,\n",
      "                     weights='uniform') is 0.9230769230769231\n",
      "Confusion Matrix of is [[10  1]\n",
      " [ 0  2]]\n"
     ]
    }
   ],
   "source": [
    "from sklearn.metrics import accuracy_score\n",
    "from sklearn.metrics import confusion_matrix\n",
    "for clf in classifiers:\n",
    "    clf.fit(x_train, y_train)\n",
    "    y_pred= clf.predict(x_test)\n",
    "    acc = accuracy_score(y_test, y_pred)\n",
    "    print(\"Accuracy of %s is %s\"%(clf, acc))\n",
    "    cm = confusion_matrix(y_test, y_pred)\n",
    "    print(\"Confusion Matrix of is %s\"%( cm))"
   ]
  },
  {
   "cell_type": "markdown",
   "metadata": {},
   "source": [
    "### conclusion from above accuracy scores if that two models fit the best\n",
    "\n",
    "1. Decision Tree with 100% accuracy\n",
    "2. KNN with around 90% accuracy"
   ]
  },
  {
   "cell_type": "markdown",
   "metadata": {},
   "source": [
    "### Trying backward elimintaion to remove unimportant variables"
   ]
  },
  {
   "cell_type": "code",
   "execution_count": 88,
   "metadata": {},
   "outputs": [
    {
     "data": {
      "text/html": [
       "<table class=\"simpletable\">\n",
       "<caption>OLS Regression Results</caption>\n",
       "<tr>\n",
       "  <th>Dep. Variable:</th>            <td>y</td>        <th>  R-squared:         </th> <td>   0.407</td>\n",
       "</tr>\n",
       "<tr>\n",
       "  <th>Model:</th>                   <td>OLS</td>       <th>  Adj. R-squared:    </th> <td>   0.369</td>\n",
       "</tr>\n",
       "<tr>\n",
       "  <th>Method:</th>             <td>Least Squares</td>  <th>  F-statistic:       </th> <td>   10.75</td>\n",
       "</tr>\n",
       "<tr>\n",
       "  <th>Date:</th>             <td>Thu, 18 Jun 2020</td> <th>  Prob (F-statistic):</th> <td>1.70e-05</td>\n",
       "</tr>\n",
       "<tr>\n",
       "  <th>Time:</th>                 <td>23:10:34</td>     <th>  Log-Likelihood:    </th> <td> -9.8597</td>\n",
       "</tr>\n",
       "<tr>\n",
       "  <th>No. Observations:</th>      <td>    51</td>      <th>  AIC:               </th> <td>   27.72</td>\n",
       "</tr>\n",
       "<tr>\n",
       "  <th>Df Residuals:</th>          <td>    47</td>      <th>  BIC:               </th> <td>   35.45</td>\n",
       "</tr>\n",
       "<tr>\n",
       "  <th>Df Model:</th>              <td>     3</td>      <th>                     </th>     <td> </td>   \n",
       "</tr>\n",
       "<tr>\n",
       "  <th>Covariance Type:</th>      <td>nonrobust</td>    <th>                     </th>     <td> </td>   \n",
       "</tr>\n",
       "</table>\n",
       "<table class=\"simpletable\">\n",
       "<tr>\n",
       "    <td></td>       <th>coef</th>     <th>std err</th>      <th>t</th>      <th>P>|t|</th>  <th>[0.025</th>    <th>0.975]</th>  \n",
       "</tr>\n",
       "<tr>\n",
       "  <th>const</th> <td>    0.6978</td> <td>    0.121</td> <td>    5.757</td> <td> 0.000</td> <td>    0.454</td> <td>    0.942</td>\n",
       "</tr>\n",
       "<tr>\n",
       "  <th>x1</th>    <td>   -0.0022</td> <td>    0.000</td> <td>   -4.400</td> <td> 0.000</td> <td>   -0.003</td> <td>   -0.001</td>\n",
       "</tr>\n",
       "<tr>\n",
       "  <th>x2</th>    <td>    0.0067</td> <td>    0.004</td> <td>    1.505</td> <td> 0.139</td> <td>   -0.002</td> <td>    0.016</td>\n",
       "</tr>\n",
       "<tr>\n",
       "  <th>x3</th>    <td>    0.0014</td> <td>    0.009</td> <td>    0.153</td> <td> 0.879</td> <td>   -0.017</td> <td>    0.020</td>\n",
       "</tr>\n",
       "</table>\n",
       "<table class=\"simpletable\">\n",
       "<tr>\n",
       "  <th>Omnibus:</th>       <td> 0.985</td> <th>  Durbin-Watson:     </th> <td>   0.970</td>\n",
       "</tr>\n",
       "<tr>\n",
       "  <th>Prob(Omnibus):</th> <td> 0.611</td> <th>  Jarque-Bera (JB):  </th> <td>   0.874</td>\n",
       "</tr>\n",
       "<tr>\n",
       "  <th>Skew:</th>          <td> 0.309</td> <th>  Prob(JB):          </th> <td>   0.646</td>\n",
       "</tr>\n",
       "<tr>\n",
       "  <th>Kurtosis:</th>      <td> 2.827</td> <th>  Cond. No.          </th> <td>1.65e+03</td>\n",
       "</tr>\n",
       "</table><br/><br/>Warnings:<br/>[1] Standard Errors assume that the covariance matrix of the errors is correctly specified.<br/>[2] The condition number is large, 1.65e+03. This might indicate that there are<br/>strong multicollinearity or other numerical problems."
      ],
      "text/plain": [
       "<class 'statsmodels.iolib.summary.Summary'>\n",
       "\"\"\"\n",
       "                            OLS Regression Results                            \n",
       "==============================================================================\n",
       "Dep. Variable:                      y   R-squared:                       0.407\n",
       "Model:                            OLS   Adj. R-squared:                  0.369\n",
       "Method:                 Least Squares   F-statistic:                     10.75\n",
       "Date:                Thu, 18 Jun 2020   Prob (F-statistic):           1.70e-05\n",
       "Time:                        23:10:34   Log-Likelihood:                -9.8597\n",
       "No. Observations:                  51   AIC:                             27.72\n",
       "Df Residuals:                      47   BIC:                             35.45\n",
       "Df Model:                           3                                         \n",
       "Covariance Type:            nonrobust                                         \n",
       "==============================================================================\n",
       "                 coef    std err          t      P>|t|      [0.025      0.975]\n",
       "------------------------------------------------------------------------------\n",
       "const          0.6978      0.121      5.757      0.000       0.454       0.942\n",
       "x1            -0.0022      0.000     -4.400      0.000      -0.003      -0.001\n",
       "x2             0.0067      0.004      1.505      0.139      -0.002       0.016\n",
       "x3             0.0014      0.009      0.153      0.879      -0.017       0.020\n",
       "==============================================================================\n",
       "Omnibus:                        0.985   Durbin-Watson:                   0.970\n",
       "Prob(Omnibus):                  0.611   Jarque-Bera (JB):                0.874\n",
       "Skew:                           0.309   Prob(JB):                        0.646\n",
       "Kurtosis:                       2.827   Cond. No.                     1.65e+03\n",
       "==============================================================================\n",
       "\n",
       "Warnings:\n",
       "[1] Standard Errors assume that the covariance matrix of the errors is correctly specified.\n",
       "[2] The condition number is large, 1.65e+03. This might indicate that there are\n",
       "strong multicollinearity or other numerical problems.\n",
       "\"\"\""
      ]
     },
     "execution_count": 88,
     "metadata": {},
     "output_type": "execute_result"
    }
   ],
   "source": [
    "import statsmodels.api as sm\n",
    "x = np.append(arr = np.ones((51,1)).astype(int), values=x, axis=1)  \n",
    "#X = x[:,[5,6,7]]\n",
    "X = df.iloc[:,[5,6,7]].values\n",
    "#y = df.iloc[:,21].values\n",
    "\n",
    "\n",
    "X = sm.add_constant(X) # adding a constant\n",
    " \n",
    "model = sm.OLS(y.astype(float), X.astype(float)).fit()\n",
    "predictions = model.predict(X) \n",
    " \n",
    "print_model = model.summary()\n",
    "print_model\n"
   ]
  },
  {
   "cell_type": "code",
   "execution_count": 89,
   "metadata": {},
   "outputs": [
    {
     "data": {
      "text/html": [
       "<table class=\"simpletable\">\n",
       "<caption>OLS Regression Results</caption>\n",
       "<tr>\n",
       "  <th>Dep. Variable:</th>            <td>y</td>        <th>  R-squared:         </th> <td>   0.407</td>\n",
       "</tr>\n",
       "<tr>\n",
       "  <th>Model:</th>                   <td>OLS</td>       <th>  Adj. R-squared:    </th> <td>   0.382</td>\n",
       "</tr>\n",
       "<tr>\n",
       "  <th>Method:</th>             <td>Least Squares</td>  <th>  F-statistic:       </th> <td>   16.45</td>\n",
       "</tr>\n",
       "<tr>\n",
       "  <th>Date:</th>             <td>Thu, 18 Jun 2020</td> <th>  Prob (F-statistic):</th> <td>3.63e-06</td>\n",
       "</tr>\n",
       "<tr>\n",
       "  <th>Time:</th>                 <td>23:11:12</td>     <th>  Log-Likelihood:    </th> <td> -9.8724</td>\n",
       "</tr>\n",
       "<tr>\n",
       "  <th>No. Observations:</th>      <td>    51</td>      <th>  AIC:               </th> <td>   25.74</td>\n",
       "</tr>\n",
       "<tr>\n",
       "  <th>Df Residuals:</th>          <td>    48</td>      <th>  BIC:               </th> <td>   31.54</td>\n",
       "</tr>\n",
       "<tr>\n",
       "  <th>Df Model:</th>              <td>     2</td>      <th>                     </th>     <td> </td>   \n",
       "</tr>\n",
       "<tr>\n",
       "  <th>Covariance Type:</th>      <td>nonrobust</td>    <th>                     </th>     <td> </td>   \n",
       "</tr>\n",
       "</table>\n",
       "<table class=\"simpletable\">\n",
       "<tr>\n",
       "    <td></td>       <th>coef</th>     <th>std err</th>      <th>t</th>      <th>P>|t|</th>  <th>[0.025</th>    <th>0.975]</th>  \n",
       "</tr>\n",
       "<tr>\n",
       "  <th>const</th> <td>    0.6877</td> <td>    0.100</td> <td>    6.848</td> <td> 0.000</td> <td>    0.486</td> <td>    0.890</td>\n",
       "</tr>\n",
       "<tr>\n",
       "  <th>x1</th>    <td>   -0.0022</td> <td>    0.000</td> <td>   -4.473</td> <td> 0.000</td> <td>   -0.003</td> <td>   -0.001</td>\n",
       "</tr>\n",
       "<tr>\n",
       "  <th>x2</th>    <td>    0.0073</td> <td>    0.002</td> <td>    2.979</td> <td> 0.005</td> <td>    0.002</td> <td>    0.012</td>\n",
       "</tr>\n",
       "</table>\n",
       "<table class=\"simpletable\">\n",
       "<tr>\n",
       "  <th>Omnibus:</th>       <td> 1.102</td> <th>  Durbin-Watson:     </th> <td>   0.976</td>\n",
       "</tr>\n",
       "<tr>\n",
       "  <th>Prob(Omnibus):</th> <td> 0.576</td> <th>  Jarque-Bera (JB):  </th> <td>   0.923</td>\n",
       "</tr>\n",
       "<tr>\n",
       "  <th>Skew:</th>          <td> 0.323</td> <th>  Prob(JB):          </th> <td>   0.630</td>\n",
       "</tr>\n",
       "<tr>\n",
       "  <th>Kurtosis:</th>      <td> 2.872</td> <th>  Cond. No.          </th> <td>1.38e+03</td>\n",
       "</tr>\n",
       "</table><br/><br/>Warnings:<br/>[1] Standard Errors assume that the covariance matrix of the errors is correctly specified.<br/>[2] The condition number is large, 1.38e+03. This might indicate that there are<br/>strong multicollinearity or other numerical problems."
      ],
      "text/plain": [
       "<class 'statsmodels.iolib.summary.Summary'>\n",
       "\"\"\"\n",
       "                            OLS Regression Results                            \n",
       "==============================================================================\n",
       "Dep. Variable:                      y   R-squared:                       0.407\n",
       "Model:                            OLS   Adj. R-squared:                  0.382\n",
       "Method:                 Least Squares   F-statistic:                     16.45\n",
       "Date:                Thu, 18 Jun 2020   Prob (F-statistic):           3.63e-06\n",
       "Time:                        23:11:12   Log-Likelihood:                -9.8724\n",
       "No. Observations:                  51   AIC:                             25.74\n",
       "Df Residuals:                      48   BIC:                             31.54\n",
       "Df Model:                           2                                         \n",
       "Covariance Type:            nonrobust                                         \n",
       "==============================================================================\n",
       "                 coef    std err          t      P>|t|      [0.025      0.975]\n",
       "------------------------------------------------------------------------------\n",
       "const          0.6877      0.100      6.848      0.000       0.486       0.890\n",
       "x1            -0.0022      0.000     -4.473      0.000      -0.003      -0.001\n",
       "x2             0.0073      0.002      2.979      0.005       0.002       0.012\n",
       "==============================================================================\n",
       "Omnibus:                        1.102   Durbin-Watson:                   0.976\n",
       "Prob(Omnibus):                  0.576   Jarque-Bera (JB):                0.923\n",
       "Skew:                           0.323   Prob(JB):                        0.630\n",
       "Kurtosis:                       2.872   Cond. No.                     1.38e+03\n",
       "==============================================================================\n",
       "\n",
       "Warnings:\n",
       "[1] Standard Errors assume that the covariance matrix of the errors is correctly specified.\n",
       "[2] The condition number is large, 1.38e+03. This might indicate that there are\n",
       "strong multicollinearity or other numerical problems.\n",
       "\"\"\""
      ]
     },
     "execution_count": 89,
     "metadata": {},
     "output_type": "execute_result"
    }
   ],
   "source": [
    "import statsmodels.api as sm\n",
    "x = np.append(arr = np.ones((51,1)).astype(int), values=x, axis=1)  \n",
    "#X = x[:,[5,6,7]]\n",
    "X = df.iloc[:,[5,6]].values\n",
    "#y = df.iloc[:,21].values\n",
    "\n",
    "\n",
    "X = sm.add_constant(X) # adding a constant\n",
    " \n",
    "model = sm.OLS(y.astype(float), X.astype(float)).fit()\n",
    "predictions = model.predict(X) \n",
    " \n",
    "print_model = model.summary()\n",
    "print_model"
   ]
  },
  {
   "cell_type": "markdown",
   "metadata": {},
   "source": [
    "### From the above summary it is clear that the model prediction basiccaly depends on assaults and sexual.offenses"
   ]
  },
  {
   "cell_type": "markdown",
   "metadata": {},
   "source": [
    "### Decision Tree"
   ]
  },
  {
   "cell_type": "code",
   "execution_count": 77,
   "metadata": {},
   "outputs": [],
   "source": [
    "#now construct the actual decision tree\n",
    "from sklearn import tree\n",
    "y = df['Is safe?']\n",
    "x = df[features]\n",
    "clf = tree.DecisionTreeClassifier()\n",
    "clf = clf.fit(x,y)\n",
    "from sklearn.preprocessing import StandardScaler    \n",
    "st_x= StandardScaler()  \n",
    "x= st_x.fit_transform(x)    \n",
    "x= st_x.transform(x)    "
   ]
  },
  {
   "cell_type": "code",
   "execution_count": 78,
   "metadata": {},
   "outputs": [
    {
     "data": {
      "image/png": "[encoded data removed]",
      "text/plain": [
       "<IPython.core.display.Image object>"
      ]
     },
     "execution_count": 78,
     "metadata": {},
     "output_type": "execute_result"
    }
   ],
   "source": [
    "from IPython.display import Image\n",
    "from sklearn.externals.six import StringIO\n",
    "import pydotplus\n",
    "dot_data = StringIO()\n",
    "#export from classifier\n",
    "tree.export_graphviz(clf,out_file=dot_data,feature_names= features,filled=True,rounded=True,special_characters =True)\n",
    "graph = pydotplus.graph_from_dot_data(dot_data.getvalue())#creating graph\n",
    "Image(graph.create_png())"
   ]
  },
  {
   "cell_type": "code",
   "execution_count": 79,
   "metadata": {},
   "outputs": [],
   "source": [
    "#Extracting Independent and dependent Variable  \n",
    "x = df.iloc[:,[5,6]].values\n",
    "y = df.iloc[:,21].values\n",
    "  \n",
    "# Splitting the dataset into training and test set.  \n",
    "from sklearn.model_selection import train_test_split  \n",
    "x_train, x_test, y_train, y_test= train_test_split(x, y, test_size= 0.25, random_state=0)  \n",
    "\n",
    "\n",
    "#feature Scaling  \n",
    "from sklearn.preprocessing import StandardScaler    \n",
    "st_x= StandardScaler()  \n",
    "x_train= st_x.fit_transform(x_train)    \n",
    "x_test= st_x.transform(x_test)    "
   ]
  },
  {
   "cell_type": "code",
   "execution_count": 80,
   "metadata": {},
   "outputs": [
    {
     "data": {
      "text/plain": [
       "DecisionTreeClassifier(ccp_alpha=0.0, class_weight=None, criterion='entropy',\n",
       "                       max_depth=None, max_features=None, max_leaf_nodes=None,\n",
       "                       min_impurity_decrease=0.0, min_impurity_split=None,\n",
       "                       min_samples_leaf=1, min_samples_split=2,\n",
       "                       min_weight_fraction_leaf=0.0, presort='deprecated',\n",
       "                       random_state=0, splitter='best')"
      ]
     },
     "execution_count": 80,
     "metadata": {},
     "output_type": "execute_result"
    }
   ],
   "source": [
    "#Fitting Decision Tree classifier to the training set  \n",
    "from sklearn.tree import DecisionTreeClassifier  \n",
    "classifier= DecisionTreeClassifier(criterion='entropy', random_state=0)  \n",
    "classifier.fit(x_train, y_train)  "
   ]
  },
  {
   "cell_type": "code",
   "execution_count": 81,
   "metadata": {},
   "outputs": [],
   "source": [
    "#Predicting the test set result  \n",
    "y_pred= classifier.predict(x_test)  "
   ]
  },
  {
   "cell_type": "code",
   "execution_count": 82,
   "metadata": {},
   "outputs": [
    {
     "data": {
      "text/plain": [
       "array([[11,  0],\n",
       "       [ 0,  2]], dtype=int64)"
      ]
     },
     "execution_count": 82,
     "metadata": {},
     "output_type": "execute_result"
    }
   ],
   "source": [
    "#Creating the Confusion matrix  \n",
    "from sklearn.metrics import confusion_matrix  \n",
    "cm= confusion_matrix(y_test, y_pred)  \n",
    "cm"
   ]
  },
  {
   "cell_type": "markdown",
   "metadata": {},
   "source": [
    "### No incorrect value 100% fit"
   ]
  },
  {
   "cell_type": "code",
   "execution_count": 83,
   "metadata": {},
   "outputs": [
    {
     "name": "stderr",
     "output_type": "stream",
     "text": [
      "'c' argument looks like a single numeric RGB or RGBA sequence, which should be avoided as value-mapping will have precedence in case its length matches with 'x' & 'y'.  Please use a 2-D array with a single row if you really want to specify the same RGB or RGBA value for all points.\n",
      "'c' argument looks like a single numeric RGB or RGBA sequence, which should be avoided as value-mapping will have precedence in case its length matches with 'x' & 'y'.  Please use a 2-D array with a single row if you really want to specify the same RGB or RGBA value for all points.\n"
     ]
    },
    {
     "data": {
      "image/png": "[encoded data removed]",
      "text/plain": [
       "<Figure size 432x288 with 1 Axes>"
      ]
     },
     "metadata": {
      "needs_background": "light"
     },
     "output_type": "display_data"
    }
   ],
   "source": [
    "#Visulaizing the trianing set result  \n",
    "from matplotlib.colors import ListedColormap  \n",
    "x_set, y_set = x_train, y_train  \n",
    "x1, x2 = np.meshgrid(np.arange(start = x_set[:, 0].min() - 1, stop = x_set[:, 0].max() + 1, step  =0.01),  \n",
    "np.arange(start = x_set[:, 1].min() - 1, stop = x_set[:, 1].max() + 1, step = 0.01))  \n",
    "plt.contourf(x1, x2, classifier.predict(np.array([x1.ravel(), x2.ravel()]).T).reshape(x1.shape),  \n",
    "alpha = 0.75, cmap = ListedColormap(('purple','green' )))  \n",
    "plt.xlim(x1.min(), x1.max())  \n",
    "plt.ylim(x2.min(), x2.max())  \n",
    "for i, j in enumerate(np.unique(y_set)):  \n",
    "    plt.scatter(x_set[y_set == j, 0], x_set[y_set == j, 1],  \n",
    "        c = ListedColormap(('purple', 'green'))(i), label = j)  \n",
    "plt.title('Decision Tree Algorithm (Training set)')  \n",
    "plt.xlabel('Age')  \n",
    "plt.ylabel('Estimated Salary')  \n",
    "plt.legend()  \n",
    "plt.show()  "
   ]
  },
  {
   "cell_type": "code",
   "execution_count": 84,
   "metadata": {},
   "outputs": [
    {
     "name": "stderr",
     "output_type": "stream",
     "text": [
      "'c' argument looks like a single numeric RGB or RGBA sequence, which should be avoided as value-mapping will have precedence in case its length matches with 'x' & 'y'.  Please use a 2-D array with a single row if you really want to specify the same RGB or RGBA value for all points.\n",
      "'c' argument looks like a single numeric RGB or RGBA sequence, which should be avoided as value-mapping will have precedence in case its length matches with 'x' & 'y'.  Please use a 2-D array with a single row if you really want to specify the same RGB or RGBA value for all points.\n"
     ]
    },
    {
     "data": {
      "image/png": "[encoded data removed]",
      "text/plain": [
       "<Figure size 432x288 with 1 Axes>"
      ]
     },
     "metadata": {
      "needs_background": "light"
     },
     "output_type": "display_data"
    }
   ],
   "source": [
    "from matplotlib.colors import ListedColormap  \n",
    "x_set, y_set = x_train, y_train  \n",
    "x1, x2 = np.meshgrid(np.arange(start = x_set[:, 0].min() - 1, stop = x_set[:, 0].max() + 1, step  =0.01),  \n",
    "np.arange(start = x_set[:, 1].min() - 1, stop = x_set[:, 1].max() + 1, step = 0.01))  \n",
    "plt.contourf(x1, x2, classifier.predict(np.array([x1.ravel(), x2.ravel()]).T).reshape(x1.shape),  \n",
    "alpha = 0.75, cmap = ListedColormap(('purple','green' )))  \n",
    "plt.xlim(x1.min(), x1.max())  \n",
    "plt.ylim(x2.min(), x2.max())  \n",
    "for i, j in enumerate(np.unique(y_set)):  \n",
    "    plt.scatter(x_set[y_set == j, 0], x_set[y_set == j, 1],  \n",
    "        c = ListedColormap(('purple', 'green'))(i), label = j)  \n",
    "plt.title('Decision Tree Algorithm (Test set)')  \n",
    "plt.xlabel('Year')  \n",
    "plt.ylabel('Crime')  \n",
    "plt.legend()  \n",
    "plt.show()  "
   ]
  },
  {
   "cell_type": "code",
   "execution_count": 85,
   "metadata": {},
   "outputs": [
    {
     "data": {
      "text/plain": [
       "1.0"
      ]
     },
     "execution_count": 85,
     "metadata": {},
     "output_type": "execute_result"
    }
   ],
   "source": [
    "from sklearn.metrics import accuracy_score\n",
    "accuracy_score(y_test,y_pred)"
   ]
  },
  {
   "cell_type": "markdown",
   "metadata": {},
   "source": [
    "### KNN also fits the well"
   ]
  },
  {
   "cell_type": "code",
   "execution_count": 28,
   "metadata": {},
   "outputs": [],
   "source": [
    "from sklearn.neighbors import KNeighborsClassifier\n",
    "clf = KNeighborsClassifier(n_neighbors = 5, metric=\"minkowski\", p =2)\n",
    "clf.fit(x_train,y_train)\n",
    "y_pred = clf.predict(x_test)"
   ]
  },
  {
   "cell_type": "code",
   "execution_count": 40,
   "metadata": {},
   "outputs": [
    {
     "name": "stdout",
     "output_type": "stream",
     "text": [
      "accuracy of testing data: 0.9090909090909091\n",
      "accuracy of training data : 0.925\n"
     ]
    }
   ],
   "source": [
    "print(\"accuracy of testing data:\",accuracy_score(y_test,y_pred))\n",
    "print(\"accuracy of training data :\",accuracy_score(y_train,clf.predict(x_train)))"
   ]
  },
  {
   "cell_type": "code",
   "execution_count": 41,
   "metadata": {},
   "outputs": [
    {
     "name": "stdout",
     "output_type": "stream",
     "text": [
      "[[8 1]\n",
      " [0 2]]\n"
     ]
    }
   ],
   "source": [
    "cm = confusion_matrix(y_test,y_pred)\n",
    "print(cm)"
   ]
  },
  {
   "cell_type": "markdown",
   "metadata": {},
   "source": [
    "### Now rebuildind our model again with these two features"
   ]
  },
  {
   "cell_type": "code",
   "execution_count": 57,
   "metadata": {},
   "outputs": [],
   "source": [
    "x = df.iloc[:,[5,6]].values\n",
    "y = df.iloc[:,21].values"
   ]
  },
  {
   "cell_type": "code",
   "execution_count": 58,
   "metadata": {},
   "outputs": [],
   "source": [
    "from sklearn.model_selection import train_test_split\n",
    "x_train, x_test, y_train, y_test = train_test_split(x, y, test_size = 0.2, random_state = 0)\n"
   ]
  },
  {
   "cell_type": "code",
   "execution_count": 59,
   "metadata": {},
   "outputs": [],
   "source": [
    "from sklearn.preprocessing import StandardScaler\n",
    "sc = StandardScaler()\n",
    "x_train = sc.fit_transform(x_train)\n",
    "x_test = sc.transform(x_test)"
   ]
  },
  {
   "cell_type": "code",
   "execution_count": 60,
   "metadata": {},
   "outputs": [],
   "source": [
    "from sklearn.neighbors import KNeighborsClassifier\n",
    "clf = KNeighborsClassifier(n_neighbors = 5, metric=\"minkowski\", p =2)\n",
    "clf.fit(x_train,y_train)\n",
    "y_pred = clf.predict(x_test)"
   ]
  },
  {
   "cell_type": "code",
   "execution_count": 61,
   "metadata": {},
   "outputs": [
    {
     "name": "stdout",
     "output_type": "stream",
     "text": [
      "accuracy of testing data: 0.9090909090909091\n",
      "accuracy of training data : 0.925\n"
     ]
    }
   ],
   "source": [
    "print(\"accuracy of testing data:\",accuracy_score(y_test,y_pred))\n",
    "print(\"accuracy of training data :\",accuracy_score(y_train,clf.predict(x_train)))"
   ]
  },
  {
   "cell_type": "code",
   "execution_count": 62,
   "metadata": {},
   "outputs": [
    {
     "name": "stdout",
     "output_type": "stream",
     "text": [
      "[[8 1]\n",
      " [0 2]]\n"
     ]
    }
   ],
   "source": [
    "cm = confusion_matrix(y_test,y_pred)\n",
    "print(cm)"
   ]
  },
  {
   "cell_type": "markdown",
   "metadata": {},
   "source": [
    "Only one incorrect prediction out of the testing set"
   ]
  },
  {
   "cell_type": "markdown",
   "metadata": {},
   "source": [
    "### Visualisation fo Knn"
   ]
  },
  {
   "cell_type": "code",
   "execution_count": 65,
   "metadata": {},
   "outputs": [
    {
     "name": "stderr",
     "output_type": "stream",
     "text": [
      "'c' argument looks like a single numeric RGB or RGBA sequence, which should be avoided as value-mapping will have precedence in case its length matches with 'x' & 'y'.  Please use a 2-D array with a single row if you really want to specify the same RGB or RGBA value for all points.\n",
      "'c' argument looks like a single numeric RGB or RGBA sequence, which should be avoided as value-mapping will have precedence in case its length matches with 'x' & 'y'.  Please use a 2-D array with a single row if you really want to specify the same RGB or RGBA value for all points.\n"
     ]
    },
    {
     "data": {
      "image/png": "[encoded data removed]",
      "text/plain": [
       "<Figure size 432x288 with 1 Axes>"
      ]
     },
     "metadata": {
      "needs_background": "light"
     },
     "output_type": "display_data"
    }
   ],
   "source": [
    "#Visulaizing the trianing set result  \n",
    "from matplotlib.colors import ListedColormap  \n",
    "x_set, y_set = x_train, y_train  \n",
    "x1, x2 = np.meshgrid(np.arange(start = x_set[:, 0].min() - 1, stop = x_set[:, 0].max() + 1, step  =0.01),  \n",
    "np.arange(start = x_set[:, 1].min() - 1, stop = x_set[:, 1].max() + 1, step = 0.01))  \n",
    "plt.contourf(x1, x2, clf.predict(np.array([x1.ravel(), x2.ravel()]).T).reshape(x1.shape),  \n",
    "alpha = 0.75, cmap = ListedColormap(('red','green' )))  \n",
    "plt.xlim(x1.min(), x1.max())  \n",
    "plt.ylim(x2.min(), x2.max())  \n",
    "for i, j in enumerate(np.unique(y_set)):  \n",
    "    plt.scatter(x_set[y_set == j, 0], x_set[y_set == j, 1],  \n",
    "        c = ListedColormap(('red', 'green'))(i), label = j)  \n",
    "plt.title('KNN Algorithm (Training set)')  \n",
    "plt.xlabel('Age')  \n",
    "plt.ylabel('Estimated Salary')  \n",
    "plt.legend()  \n",
    "plt.show()  "
   ]
  },
  {
   "cell_type": "code",
   "execution_count": 66,
   "metadata": {},
   "outputs": [
    {
     "name": "stderr",
     "output_type": "stream",
     "text": [
      "'c' argument looks like a single numeric RGB or RGBA sequence, which should be avoided as value-mapping will have precedence in case its length matches with 'x' & 'y'.  Please use a 2-D array with a single row if you really want to specify the same RGB or RGBA value for all points.\n",
      "'c' argument looks like a single numeric RGB or RGBA sequence, which should be avoided as value-mapping will have precedence in case its length matches with 'x' & 'y'.  Please use a 2-D array with a single row if you really want to specify the same RGB or RGBA value for all points.\n"
     ]
    },
    {
     "data": {
      "image/png": "[encoded data removed]",
      "text/plain": [
       "<Figure size 432x288 with 1 Axes>"
      ]
     },
     "metadata": {
      "needs_background": "light"
     },
     "output_type": "display_data"
    }
   ],
   "source": [
    "#Visulaizing the trianing set result  \n",
    "from matplotlib.colors import ListedColormap  \n",
    "x_set, y_set = x_test, y_test  \n",
    "x1, x2 = np.meshgrid(np.arange(start = x_set[:, 0].min() - 1, stop = x_set[:, 0].max() + 1, step  =0.01),  \n",
    "np.arange(start = x_set[:, 1].min() - 1, stop = x_set[:, 1].max() + 1, step = 0.01))  \n",
    "plt.contourf(x1, x2, clf.predict(np.array([x1.ravel(), x2.ravel()]).T).reshape(x1.shape),  \n",
    "alpha = 0.75, cmap = ListedColormap(('red','green' )))  \n",
    "plt.xlim(x1.min(), x1.max())  \n",
    "plt.ylim(x2.min(), x2.max())  \n",
    "for i, j in enumerate(np.unique(y_set)):  \n",
    "    plt.scatter(x_set[y_set == j, 0], x_set[y_set == j, 1],  \n",
    "        c = ListedColormap(('red', 'green'))(i), label = j)  \n",
    "plt.title('KNN Algorithm (Testing set)')  \n",
    "plt.xlabel('Age')  \n",
    "plt.ylabel('Estimated Salary')  \n",
    "plt.legend()  \n",
    "plt.show()  "
   ]
  },
  {
   "cell_type": "code",
   "execution_count": null,
   "metadata": {},
   "outputs": [],
   "source": []
  }
 ],
 "metadata": {
  "kernelspec": {
   "display_name": "Python 3",
   "language": "python",
   "name": "python3"
  },
  "language_info": {
   "codemirror_mode": {
    "name": "ipython",
    "version": 3
   },
   "file_extension": ".py",
   "mimetype": "text/x-python",
   "name": "python",
   "nbconvert_exporter": "python",
   "pygments_lexer": "ipython3",
   "version": "3.7.6"
  }
 },
 "nbformat": 4,
 "nbformat_minor": 4
}
